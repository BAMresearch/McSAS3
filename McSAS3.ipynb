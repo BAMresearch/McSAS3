{
 "cells": [
  {
   "cell_type": "markdown",
   "metadata": {},
   "source": [
    "McSAS-3; notebook version\n",
    "==\n",
    "v1: the model and measured intensity are now plain dictionaries instead of Pandas DataFrames. This speeds up the method a lot, by about a factor of 20.\n",
    "\n",
    "v2: a test has been done to see if it also helps to make the parameterSet a plain dictionary instead of a pandas DataFrame. result: minimal gains of less than a few percent. This effort is stored in McSAS_v2 but reverted. \n",
    "\n",
    "v3: back to the original variant with the parameterSet in a DataFrame. This is easier to work with internally and as a result. \n",
    "\n",
    "v4: more clean-up and trying Paul Kienzle's even more core model approach (since we're not using polydispersity options on the parameters)\n",
    "\n",
    "v5: no luck finding those more core approaches, even forcing ocl calculations, no speed improvement was noticed. Anyway, let's 2D fit (because why start with 1D fits?)"
   ]
  },
  {
   "cell_type": "code",
   "execution_count": 1,
   "metadata": {},
   "outputs": [],
   "source": [
    "# import all the necessary bits and bobs\n",
    "\n",
    "import h5py, sys\n",
    "import numpy as np\n",
    "import pandas\n",
    "import scipy\n",
    "import multiprocessing\n",
    "\n",
    "%matplotlib inline\n",
    "import matplotlib\n",
    "import matplotlib.pyplot as plt\n",
    "matplotlib.style.use(\"ggplot\")\n",
    "\n",
    "# change this one to whereever you have the sasmodels installed:\n",
    "sys.path.append('/Users/brian/Code/sasmodels/')\n",
    "import sasmodels\n",
    "import sasmodels.core\n",
    "import sasmodels.direct_model"
   ]
  },
  {
   "cell_type": "code",
   "execution_count": 2,
   "metadata": {},
   "outputs": [
    {
     "name": "stdout",
     "output_type": "stream",
     "text": [
      "\n",
      " \n",
      "   1D-only SasModel Models:\n",
      "\n",
      "adsorbed_layer is available only in 1D\n",
      "be_polyelectrolyte is available only in 1D\n",
      "binary_hard_sphere is available only in 1D\n",
      "broad_peak is available only in 1D\n",
      "core_multi_shell is available only in 1D\n",
      "core_shell_sphere is available only in 1D\n",
      "correlation_length is available only in 1D\n",
      "dab is available only in 1D\n",
      "flexible_cylinder is available only in 1D\n",
      "flexible_cylinder_elliptical is available only in 1D\n",
      "fractal is available only in 1D\n",
      "fractal_core_shell is available only in 1D\n",
      "fuzzy_sphere is available only in 1D\n",
      "gauss_lorentz_gel is available only in 1D\n",
      "gaussian_peak is available only in 1D\n",
      "gel_fit is available only in 1D\n",
      "guinier is available only in 1D\n",
      "guinier_porod is available only in 1D\n",
      "hardsphere is available only in 1D\n",
      "hayter_msa is available only in 1D\n",
      "hollow_rectangular_prism_thin_walls is available only in 1D\n",
      "lamellar is available only in 1D\n",
      "lamellar_hg is available only in 1D\n",
      "lamellar_hg_stack_caille is available only in 1D\n",
      "lamellar_stack_caille is available only in 1D\n",
      "lamellar_stack_paracrystal is available only in 1D\n",
      "line is available only in 1D\n",
      "linear_pearls is available only in 1D\n",
      "lorentz is available only in 1D\n",
      "mass_fractal is available only in 1D\n",
      "mass_surface_fractal is available only in 1D\n",
      "mono_gauss_coil is available only in 1D\n",
      "multilayer_vesicle is available only in 1D\n",
      "onion is available only in 1D\n",
      "peak_lorentz is available only in 1D\n",
      "pearl_necklace is available only in 1D\n",
      "poly_gauss_coil is available only in 1D\n",
      "polymer_excl_volume is available only in 1D\n",
      "polymer_micelle is available only in 1D\n",
      "porod is available only in 1D\n",
      "power_law is available only in 1D\n",
      "pringle is available only in 1D\n",
      "raspberry is available only in 1D\n",
      "rpa is available only in 1D\n",
      "sphere is available only in 1D\n",
      "spherical_sld is available only in 1D\n",
      "spinodal is available only in 1D\n",
      "squarewell is available only in 1D\n",
      "star_polymer is available only in 1D\n",
      "stickyhardsphere is available only in 1D\n",
      "surface_fractal is available only in 1D\n",
      "teubner_strey is available only in 1D\n",
      "two_lorentzian is available only in 1D\n",
      "two_power_law is available only in 1D\n",
      "unified_power_Rg is available only in 1D\n",
      "vesicle is available only in 1D\n",
      "\n",
      " \n",
      "   2D- and 1D- SasModel Models:\n",
      "\n",
      "barbell is available in 2D\n",
      "bcc_paracrystal is available in 2D\n",
      "capped_cylinder is available in 2D\n",
      "core_shell_bicelle is available in 2D\n",
      "core_shell_bicelle_elliptical is available in 2D\n",
      "core_shell_bicelle_elliptical_belt_rough is available in 2D\n",
      "core_shell_cylinder is available in 2D\n",
      "core_shell_ellipsoid is available in 2D\n",
      "core_shell_parallelepiped is available in 2D\n",
      "cylinder is available in 2D\n",
      "ellipsoid is available in 2D\n",
      "elliptical_cylinder is available in 2D\n",
      "fcc_paracrystal is available in 2D\n",
      "hollow_cylinder is available in 2D\n",
      "hollow_rectangular_prism is available in 2D\n",
      "parallelepiped is available in 2D\n",
      "rectangular_prism is available in 2D\n",
      "sc_paracrystal is available in 2D\n",
      "stacked_disks is available in 2D\n",
      "triaxial_ellipsoid is available in 2D\n"
     ]
    }
   ],
   "source": [
    "# show me all the available models, 1D and 1D+2D\n",
    "\n",
    "print(\"\\n \\n   1D-only SasModel Models:\\n\")\n",
    "\n",
    "for model in sasmodels.core.list_models():\n",
    "    modelInfo = sasmodels.core.load_model_info(model)\n",
    "    if not modelInfo.parameters.has_2d:\n",
    "        print(\"{} is available only in 1D\".format(modelInfo.id))\n",
    "\n",
    "print(\"\\n \\n   2D- and 1D- SasModel Models:\\n\")\n",
    "for model in sasmodels.core.list_models():\n",
    "    modelInfo = sasmodels.core.load_model_info(model)\n",
    "    if modelInfo.parameters.has_2d:\n",
    "        print(\"{} is available in 2D\".format(modelInfo.id))"
   ]
  },
  {
   "cell_type": "markdown",
   "metadata": {},
   "source": [
    "Class definitions:\n",
    "--\n",
    "\n",
    "We define several classes here:\n",
    "  - optimizeScalingAndBackground: takes care of the calculation of the reduced chi-squared value, after a least-squares optimization for the scaling and background factors.\n",
    "  - McModel: extends the SasModel with information on the parameter set and methods for calculating a total scattering intensity from multiple contributions. It also tracks parameter bounds, random generators and picks.\n",
    "  - McOpt: contains mostly settings related to the optimization process. Also keeps track of the contribution to optimize.\n",
    "  - McCore: Contains the methods required to do the optimization. \n",
    "  "
   ]
  },
  {
   "cell_type": "code",
   "execution_count": 3,
   "metadata": {},
   "outputs": [],
   "source": [
    "class optimizeScalingAndBackground(object):\n",
    "    \"\"\"small class derived from the McSAS mcsas/backgroundscalingfit.py class, \n",
    "    quickly provides an optimized scaling and background value for two datasets.\n",
    "    \n",
    "    TODO (maybe): include a $I \\propto Q^{-4}$ background contribution? If so, Q should be\n",
    "    available to this class.......\n",
    "    \n",
    "    inputs:\n",
    "    *measDataI*: numpy array of measured intensities\n",
    "    *measDataISigma*: associated uncertainties\n",
    "    *modelDataI*: array of model intensities. \n",
    "    *x0* (optional): two-element tuple with initial guess for scaling and background\n",
    "    *xBounds* (optional): constraints to the optimization, speeds up when appropriate constraints are given\n",
    "\n",
    "    Returns:\n",
    "    :x: length 2 ndarray with optimized scaling parameter and background parameter\n",
    "    :cs: final reduced chi-squared \n",
    "    \n",
    "    Usage example: \n",
    "    >>> o = optimizeScalingAndBackground(measDataI, measDataISigma)\n",
    "    >>> xOpt, rcs = o.match(modelDataI) \n",
    "    \"\"\"\n",
    "    measDataI = None\n",
    "    measDataISigma = None\n",
    "    xBounds = None\n",
    "    \n",
    "    def __init__(self, measDataI = None, measDataISigma = None, xBounds = None):\n",
    "        self.measDataI = measDataI\n",
    "        self.measDataISigma = measDataISigma\n",
    "        self.validate()\n",
    "        if xBounds is None:\n",
    "            self.xBounds = [[0, None], \n",
    "                            [-self.measDataI.mean(), self.measDataI.mean()]]\n",
    "\n",
    "    def validate(self):\n",
    "        # checks input\n",
    "        assert(not any(np.isnan(self.measDataI)))\n",
    "        assert(not any(np.isinf(self.measDataI)))\n",
    "        assert(not any(np.isnan(self.measDataISigma)))\n",
    "        assert(not any(np.isinf(self.measDataISigma)))\n",
    "        assert(any(np.isfinite(self.measDataISigma)))\n",
    "        assert(any(np.isfinite(self.measDataISigma)))\n",
    "        assert(self.measDataI.size != 0)\n",
    "        assert(self.measDataI.shape == self.measDataISigma.shape)\n",
    "        assert(self.measDataI.ndim == 1)\n",
    "        \n",
    "    @staticmethod\n",
    "    def optFunc(sc, measDataI, measDataISigma, modelDataI):\n",
    "        # reduced chi-square; normalized by uncertainty. \n",
    "        cs = sum((\n",
    "            (measDataI - (modelDataI * sc[0] + sc[1]))/measDataISigma)**2\n",
    "        ) / measDataI.size\n",
    "        return cs\n",
    "    \n",
    "    def match(self, modelDataI, x0 = None):\n",
    "        if x0 is None: # optional argument with starting guess..\n",
    "            # some initial guess\n",
    "            x0 = np.array([self.measDataI.mean() / modelDataI.mean(), self.measDataI.min()])\n",
    "        # adapt bounds to modelData:\n",
    "        # self._xBounds[0][1] /= modelDataI.mean()\n",
    "        opt = scipy.optimize.minimize(self.optFunc, \n",
    "                                x0, \n",
    "                                args = (self.measDataI, self.measDataISigma, modelDataI), \n",
    "                                # method = \"TNC\", \n",
    "                                bounds = self.xBounds)\n",
    "        return opt[\"x\"], opt[\"fun\"]\n",
    "    "
   ]
  },
  {
   "cell_type": "code",
   "execution_count": 4,
   "metadata": {},
   "outputs": [],
   "source": [
    "class McModel(object):\n",
    "    \"\"\"\n",
    "    Specifies the fit parameter details and contains random pickers. \n",
    "    requires:\n",
    "    fitParameterLimits: dict of value pairs {\"param1\": (lower, upper), ... } for fit parameters\n",
    "    staticParameters: dict of parameter-value pairs to keep static during the fit. \n",
    "    \"\"\"\n",
    "    # import np.random.uniform \n",
    "    \n",
    "    func = None # SasModels model instance\n",
    "    kernel = None # SasModels kernel pointer\n",
    "    parameterSet = None # pandas dataFrame of length nContrib, with column names of parameters\n",
    "    staticParameters = None # dictionary of static parameter-value pairs during MC optimization\n",
    "    pickParameters = None  # dict of values with new random picks, named by parameter names\n",
    "    pickIndex = None # int showing the running number of the current contribution being tested\n",
    "    fitParameterLimits = None # dict of value pairs (tuples) *for fit parameters only* with lower, upper limits for the random function generator, named by parameter names \n",
    "    randomGenerators = None # dict with random value generators \n",
    "    volumes = None # array of volumes for each model contribution, calculated during execution\n",
    "    seed = None # random generator seed, should vary for parallel execution\n",
    "    \n",
    "    def fitKeys(self):\n",
    "        return [key for key in self.fitParameterLimits]\n",
    "    \n",
    "    def __init__(self, fitParameterLimits = None, staticParameters = None, func = None, seed = 12345):\n",
    "        self.func = func\n",
    "        self.fitParameterLimits = fitParameterLimits\n",
    "        self.staticParameters = staticParameters\n",
    "        self.seed = seed\n",
    "\n",
    "    def initialize(self, nContrib):\n",
    "        # after nContrib is known, this can be exectued.\n",
    "        self.randomGenerators = dict.fromkeys(\n",
    "            [key for key in self.fitParameterLimits], np.random.RandomState(self.seed).uniform)\n",
    "        self.parameterSet = pandas.DataFrame(\n",
    "            index = range(nContrib), columns = self.fitKeys())\n",
    "        self.fillParameterSet()\n",
    "       \n",
    "    def pick(self):\n",
    "        \"\"\"pick new random model parameter\"\"\"\n",
    "        self.pickParameters = self.generateRandomParameterValues()\n",
    "\n",
    "    def generateRandomParameterValues(self):\n",
    "        \"\"\"to be depreciated as soon as models can generate their own...\"\"\"\n",
    "        # initialize dict with parameter-value pairs defaulting to None\n",
    "        returnDict = dict.fromkeys([key for key in self.fitParameterLimits])\n",
    "        # fill:\n",
    "        for parName in self.fitParameterLimits.keys():\n",
    "            # can be replaced by a loop over iteritems:\n",
    "            (upper, lower) = self.fitParameterLimits[parName]            \n",
    "            returnDict[parName] = self.randomGenerators[parName](upper, lower)\n",
    "        return returnDict\n",
    "    \n",
    "    def fillParameterSet(self):\n",
    "        \"\"\"fills the model parameter values with random values\"\"\"\n",
    "        for contribi in range(self.parameterSet.shape[0]):\n",
    "            # can be improved with a list comprehension, but this only executes once..\n",
    "            self.parameterSet.loc[contribi] = self.generateRandomParameterValues()\n",
    "    "
   ]
  },
  {
   "cell_type": "code",
   "execution_count": 5,
   "metadata": {},
   "outputs": [],
   "source": [
    "class McOpt(object):\n",
    "    \"\"\"Class to store optimization settings and keep track of running variables\"\"\"\n",
    "    x0 = None         # continually updated new guess for total scaling, background values.\n",
    "    testX0 = None     # X0 if test is accepted.\n",
    "    gof = None        # continually updated gof value\n",
    "    weighting = 0.5   # NOT USED, set to default = volume-weighted.  volume-weighting / compensation factor for the contributions \n",
    "    nContrib = None   # also copied in McParams\n",
    "    nRep = None       # number of repeated independent optimizations to calculate population statistics over\n",
    "    maxIter = None    # maximum steps before fail\n",
    "    maxAccept = None  # maximum accepted before valid return\n",
    "    convCrit = None   # reduced chi-square before valid return\n",
    "    step = None       # number of iteration steps\n",
    "    accepted = None   # number of accepted picks\n",
    "    modelI = None     # internal, will be filled later\n",
    "    testModelI = None # internal, updated intensity after replacing with pick\n",
    "    testModelV = None # volume of test object, optionally used for weighted histogramming later on.\n",
    "    \n",
    "    def __init__(self, nContrib = 300, maxIter = 100000, maxAccept = np.inf, convCrit = 1, nRep = 4):\n",
    "        self.nContrib = int(nContrib)\n",
    "        self.maxIter = maxIter\n",
    "        self.maxAccept = maxAccept\n",
    "        self.convCrit = convCrit\n",
    "        self.x0 = np.array([1, 0])\n",
    "        \n",
    "    def contribIndex(self):\n",
    "        \"\"\" returns current index of contribution being optimized \"\"\"\n",
    "        return self.step % self.nContrib\n",
    "    \n",
    "\n"
   ]
  },
  {
   "cell_type": "code",
   "execution_count": 6,
   "metadata": {},
   "outputs": [],
   "source": [
    "class McCore(object): \n",
    "    \"\"\"\n",
    "    The core of the MC procedure. Strict requirements on input include:\n",
    "    modelFunc: SasModels function\n",
    "    measData: measurement data dictionary with Q, I, ISigma containing arrays\n",
    "    pickParameters: dict of values with new random picks, named by parameter names\n",
    "    modelParameterLimits: dict of value pairs (tuples) with random pick bounds, named by parameter names \n",
    "    x0: continually updated new guess for total scaling, background values. \n",
    "    weighting: volume-weighting / compensation factor for the contributions\n",
    "    nContrib: number of contributions\n",
    "    \"\"\"\n",
    "    import scipy.optimize \n",
    "    \n",
    "    _measData = None  # measurement data dict with entries for Q, I, ISigma\n",
    "    _model = None     # instance of McModel\n",
    "    _opt = None       # instance of McOpt\n",
    "    _OSB = None       # optimizeScalingAndBackground instance for this data\n",
    "    \n",
    "    def __init__(self, \n",
    "                 measData = None, \n",
    "                 model = None, \n",
    "                 opt = None,\n",
    "                ):\n",
    "        \n",
    "        self._model = model \n",
    "        self._measData = measData \n",
    "        self._opt = opt    # McOpt instance\n",
    "        self._opt.nContrib # pass on this important parameter\n",
    "        self._opt.step = 0 # number of iteration steps\n",
    "        self._opt.accepted = 0 # number of accepted iterations\n",
    "        self._OSB = optimizeScalingAndBackground(measData[\"I\"], measData[\"ISigma\"])\n",
    "\n",
    "        self.initModel()   # initialize SasView model\n",
    "        self._opt.gof = self.evaluate() # calculate initial GOF measure\n",
    "\n",
    "    def initModel(self):\n",
    "        # sets up parameters set with nContrib contributions:\n",
    "        self._model.initialize(self._opt.nContrib) \n",
    "        # set default parameters:\n",
    "        self._model.func.info.parameters.defaults.update(self._model.staticParameters)\n",
    "        # generate kernel\n",
    "        self._model.kernel = self._model.func.make_kernel(self._measData[\"Q\"])\n",
    "        # calculate scattering intensity by combining intensities from all contributions\n",
    "        self.initModelI()\n",
    "    \n",
    "    def load(self):\n",
    "        \"\"\"loads the configuration and set-up from the extended NXcanSAS file\"\"\"\n",
    "        # not implemented yet\n",
    "        pass\n",
    "\n",
    "    def calcModelI(self, parameters):\n",
    "        \"\"\"calculates the intensity and volume of a particular set of parameters\"\"\"\n",
    "        return sasmodels.direct_model.call_kernel(\n",
    "                self._model.kernel, \n",
    "                parameters\n",
    "            )\n",
    "    \n",
    "    def returnModelV(self):\n",
    "        \"\"\"\n",
    "        Returns the volume of the last kernel calculation. \n",
    "        Has to be run directly after calculation. May be replaced by more appropriate \n",
    "        SasModels function calls once available. \n",
    "        \"\"\"\n",
    "        return self._model.kernel.result[self._model.kernel.q_input.nq]\n",
    "    \n",
    "    def initModelI(self):\n",
    "        \"\"\"calculate the total intensity from all contributions\"\"\"\n",
    "        # set initial shape:\n",
    "        I = self.calcModelI( \n",
    "            self._model.parameterSet.loc[0].to_dict()\n",
    "        ) \n",
    "        # zero-out all previously stored values for intensity and volume\n",
    "        self._opt.modelI = np.zeros(I.shape)\n",
    "        self._model.volumes = np.zeros(self._opt.nContrib)\n",
    "        # add the intensity of every contribution\n",
    "        for contribi in range(self._opt.nContrib):\n",
    "            I = self.calcModelI( \n",
    "                self._model.parameterSet.loc[contribi].to_dict()\n",
    "            ) \n",
    "            V = self.returnModelV()\n",
    "            # intensity is added, normalized by number of contributions. \n",
    "            # volume normalization is already done in SasModels (!), so we have volume-weighted intensities from there...\n",
    "            self._opt.modelI += I / self._opt.nContrib # / (self._opt.nContrib * V)\n",
    "            # we store the volumes anyway since we may want to use them later for showing alternatives of number-weighted, or volume-squared weighted histograms\n",
    "            self._model.volumes[contribi] = self.returnModelV()\n",
    "    \n",
    "    def evaluate(self, testData = None): # takes 20 ms! \n",
    "        \"\"\"scale and calculate goodness-of-fit (GOF) from all contributions\"\"\"\n",
    "\n",
    "        if testData is None:\n",
    "            testData = self._opt.modelI\n",
    "            \n",
    "        # this function takes quite a while:\n",
    "        self._opt.testX0, gof = self._OSB.match(testData, self._opt.x0)\n",
    "        return gof\n",
    "    \n",
    "    def reEvaluate(self):\n",
    "        \"\"\"replace single contribution with new contribution, recalculate intensity and GOF\"\"\"\n",
    "\n",
    "        # calculate old intensity to subtract:\n",
    "        Iold = self.calcModelI( \n",
    "            self._model.parameterSet.loc[self._opt.contribIndex()].to_dict()\n",
    "        ) \n",
    "        # not needed:\n",
    "        # Vold = self.returnModelV() # = self._model.volumes[self._opt.contribIndex()]\n",
    "        \n",
    "        # calculate new intensity to add:\n",
    "        Ipick = self.calcModelI( self._model.pickParameters ) \n",
    "        Vpick = self.returnModelV()\n",
    "        \n",
    "        # remove intensity from contribi from modelI\n",
    "        # add intensity from Pick\n",
    "        self._opt.testModelI = self._opt.modelI + (Ipick - \n",
    "                                Iold )/ self._opt.nContrib\n",
    "        \n",
    "        # store pick volume in temporary location\n",
    "        self._opt.testModelV = Vpick\n",
    "        # recalculate reduced chi-squared for this option\n",
    "        return self.evaluate(self._opt.testModelI)\n",
    "    \n",
    "    def reject(self):\n",
    "        \"\"\"reject pick\"\"\"\n",
    "        # nothing to do. Can be used to fish out a running rejection/acceptance ratio later\n",
    "        pass\n",
    "    \n",
    "    def accept(self):\n",
    "        \"\"\"accept pick\"\"\"\n",
    "        # store parameters of accepted pick:\n",
    "        self._model.parameterSet.loc[self._opt.contribIndex()] = self._model.pickParameters\n",
    "        # store calculated intensity as new total intensity:\n",
    "        self._opt.modelI = self._opt.testModelI\n",
    "        # store new pick volume to the set of volumes:\n",
    "        self._model.volumes[self._opt.contribIndex()] = self._opt.testModelV\n",
    "        # store latest scaling and background values as new initial guess:\n",
    "        self._opt.x0 = self._opt.testX0\n",
    "        # add one to the accepted moves counter:\n",
    "        self._opt.accepted += 1\n",
    "    \n",
    "    def iterate(self):\n",
    "        \"\"\"pick, re-evaluate and accept/reject\"\"\"\n",
    "        # pick new model parameters:\n",
    "        self._model.pick() # 3 µs\n",
    "        # calculate GOF for the new total set:\n",
    "        newGof = self.reEvaluate() # 2 ms\n",
    "        # if this is an improvement:\n",
    "        if (newGof < self._opt.gof):\n",
    "            # accept the move:\n",
    "            self.accept() # 500 µs\n",
    "            # and store the new GOF as current:\n",
    "            self._opt.gof = newGof           \n",
    "        # increment step counter in either case: \n",
    "        self._opt.step += 1\n",
    "    \n",
    "    def optimize(self):\n",
    "        \"\"\"iterate until target GOF or maxiter reached\"\"\"\n",
    "        print(\"Optimization started\")\n",
    "        print(\"chiSqr: {}, N accepted: {} / {}\"\n",
    "              .format(self._opt.gof, self._opt.accepted, self._opt.step))       \n",
    "\n",
    "        # continue optimizing until we reach any of these targets:\n",
    "        while ((self._opt.accepted < self._opt.maxAccept) & # max accepted moves\n",
    "               (self._opt.step < self._opt.maxIter) &       # max number of tries\n",
    "               (self._opt.gof > self._opt.convCrit)):       # convergence criterion reached\n",
    "            self.iterate()\n",
    "            # show me every 1000 steps where you are in the optimization:\n",
    "            if (self._opt.step % 1000 == 1):\n",
    "                print(\"chiSqr: {}, N accepted: {} / {}\"\n",
    "                      .format(self._opt.gof, self._opt.accepted, self._opt.step))\n",
    "                \n",
    "    def run(self):\n",
    "        \"\"\"runs the full sequence: multiple repetitions of optimizations, to be parallelized\"\"\"\n",
    "        # NOT FINISHED YET, individual optimizations are not yet stored(!)\n",
    "        for rep in range(self._opt.nRep):\n",
    "            self.optimize()\n",
    "            \n",
    "    def store(self):\n",
    "        \"\"\"stores the resulting model parameter-set in the NXcanSAS object, ready for histogramming\"\"\"\n",
    "        # not finished\n",
    "        pass"
   ]
  },
  {
   "cell_type": "code",
   "execution_count": null,
   "metadata": {},
   "outputs": [],
   "source": []
  },
  {
   "cell_type": "markdown",
   "metadata": {},
   "source": [
    "1D Tests\n",
    "== \n",
    "\n",
    "The 1D tests load the standard McSAS Quickstartdemo dataset, which is a simulated dataset from a trimodal distribution. \n",
    "\n",
    "Speed of a single optimization (~6s) is close to that of McSAS (~6s). After dicking around with the \n",
    "optimizeScalingAndBackground fitting bounds, it's increased to 17s.. "
   ]
  },
  {
   "cell_type": "code",
   "execution_count": 7,
   "metadata": {},
   "outputs": [
    {
     "name": "stdout",
     "output_type": "stream",
     "text": [
      "param prep: 0.0002548694610595703\n",
      "McCore prep: 0.6511569023132324\n",
      "Iterate: 0.6588249206542969\n",
      "mc.chisqr: 3893.100413326442, n accepted: 0\n",
      "Optimization started\n",
      "chiSqr: 3893.100413326442, N accepted: 0 / 1\n",
      "chiSqr: 144.73295778764015, N accepted: 326 / 1001\n",
      "chiSqr: 7.865942073586326, N accepted: 495 / 2001\n",
      "chiSqr: 1.8092845083060056, N accepted: 562 / 3001\n",
      "chiSqr: 1.176541664822757, N accepted: 589 / 4001\n",
      "chiSqr: 1.0588460947702962, N accepted: 603 / 5001\n",
      "Final mc.chisqr: 0.973231025703538, n accepted: 608\n"
     ]
    }
   ],
   "source": [
    "# ok, let's try a more gentle optimization using 1D data :). \n",
    "# test with directly imported data\n",
    "\n",
    "# import data using Pandas\n",
    "qs = pandas.read_csv(\"quickstartdemo1.csv\", delimiter = ';', header = None, names = [\"Q\", \"I\", \"ISigma\"])\n",
    "measData = qs.to_dict(orient = \"list\") # lazy-conversion to dict\n",
    "measData[\"Q\"] = [np.array(measData[\"Q\"])] # needs to be a list with [Q] or [Qx,Qy]. Q always one-dimensional\n",
    "measData[\"I\"] = np.array(measData[\"I\"])   # measured intensity, shape must match Q\n",
    "measData[\"ISigma\"] = np.array(measData[\"ISigma\"]) # uncertainties on the intensiy\n",
    "\n",
    "import time # I need more time\n",
    "\n",
    "model = sasmodels.core.load_model('sphere', dtype = \"fast\") # can't get OpenCV to speed things up...\n",
    "# kernel = model.make_kernel(measData[\"Q\"])\n",
    "\n",
    "# track time\n",
    "t = time.time()\n",
    "\n",
    "# initialize optimization settings:\n",
    "mcopt = McOpt(nContrib = 300, maxIter = 1e5, convCrit = 1, nRep = 10)\n",
    "# make me a model:\n",
    "mcmod = McModel(\n",
    "    func = model, seed = 12,\n",
    "    fitParameterLimits = {\"radius\": (3, 315)}, \n",
    "    staticParameters = {\"background\": 0, \"sld\" : 1, \"sld_solvent\" : 0, })\n",
    "# tell me the time\n",
    "print(\"param prep: {}\".format(time.time() - t))\n",
    "# initialize the core with the model and the optimization settings:\n",
    "mc = McCore(measData, model = mcmod, opt = mcopt)\n",
    "# tell me the time\n",
    "print(\"McCore prep: {}\".format(time.time() - t))\n",
    "# do one iteration step\n",
    "mc.iterate()\n",
    "# tell me the time again...\n",
    "print(\"Iterate: {}\".format(time.time() - t))\n",
    "# where are we now:\n",
    "print(\"mc.chisqr: {}, n accepted: {}\".format(mc._opt.gof, mc._opt.accepted))\n",
    "mc.optimize()\n",
    "mc._model.kernel.release()\n",
    "print(\"Final mc.chisqr: {}, n accepted: {}\".format(mc._opt.gof, mc._opt.accepted))"
   ]
  },
  {
   "cell_type": "code",
   "execution_count": 8,
   "metadata": {},
   "outputs": [
    {
     "data": {
      "text/plain": [
       "<matplotlib.legend.Legend at 0x1017e69668>"
      ]
     },
     "execution_count": 8,
     "metadata": {},
     "output_type": "execute_result"
    },
    {
     "data": {
      "image/png": "[encoded data removed]",
      "text/plain": [
       "<Figure size 432x288 with 1 Axes>"
      ]
     },
     "metadata": {},
     "output_type": "display_data"
    }
   ],
   "source": [
    "# plot the intensity match:\n",
    "\n",
    "plt.plot(measData[\"Q\"][0], measData[\"I\"], label = \"Input Data\")\n",
    "plt.yscale(\"log\")\n",
    "plt.xscale(\"log\")\n",
    "plt.xlabel(\"Q (1/whatevers)\")\n",
    "plt.ylabel(\"I (1/m)\")\n",
    "plt.plot(measData[\"Q\"][0], mc._opt.modelI * mc._opt.x0[0] + mc._opt.x0[1], label = \"MC fit\")\n",
    "plt.legend(loc = 0)"
   ]
  },
  {
   "cell_type": "code",
   "execution_count": 9,
   "metadata": {},
   "outputs": [
    {
     "data": {
      "text/plain": [
       "(array([ 2.,  7., 17.,  8.,  3.,  0.,  1.,  0.,  1.,  3.,  6.,  9., 10.,\n",
       "        10., 14., 17., 16., 14.,  8.,  6.,  4.,  5.,  3.,  0.,  1.,  0.,\n",
       "         0.,  4.,  1.,  2.,  6.,  8., 12., 11., 17., 13., 15., 10., 14.,\n",
       "         7.,  7.,  1.,  3.,  0.,  2.,  1.,  0.,  0.,  0.,  1.]),\n",
       " array([  3.04505723,   5.84838872,   8.6517202 ,  11.45505168,\n",
       "         14.25838316,  17.06171465,  19.86504613,  22.66837761,\n",
       "         25.47170909,  28.27504058,  31.07837206,  33.88170354,\n",
       "         36.68503502,  39.48836651,  42.29169799,  45.09502947,\n",
       "         47.89836095,  50.70169244,  53.50502392,  56.3083554 ,\n",
       "         59.11168688,  61.91501836,  64.71834985,  67.52168133,\n",
       "         70.32501281,  73.12834429,  75.93167578,  78.73500726,\n",
       "         81.53833874,  84.34167022,  87.14500171,  89.94833319,\n",
       "         92.75166467,  95.55499615,  98.35832764, 101.16165912,\n",
       "        103.9649906 , 106.76832208, 109.57165357, 112.37498505,\n",
       "        115.17831653, 117.98164801, 120.7849795 , 123.58831098,\n",
       "        126.39164246, 129.19497394, 131.99830543, 134.80163691,\n",
       "        137.60496839, 140.40829987, 143.21163136]),\n",
       " <a list of 50 Patch objects>)"
      ]
     },
     "execution_count": 9,
     "metadata": {},
     "output_type": "execute_result"
    },
    {
     "data": {
      "image/png": "[encoded data removed]",
      "text/plain": [
       "<Figure size 432x288 with 1 Axes>"
      ]
     },
     "metadata": {},
     "output_type": "display_data"
    }
   ],
   "source": [
    "# apparently, the SasModels are already volume-weighted!\n",
    "# plot the size histogram, linear X-axis for now..\n",
    "plt.hist(list(mc._model.parameterSet[\"radius\"]), bins = 50, log = False)"
   ]
  },
  {
   "cell_type": "markdown",
   "metadata": {},
   "source": [
    "Until here, everything works...\n",
    "==\n",
    "\n",
    "(but check out the 2D data fitting below, which partially works!)"
   ]
  },
  {
   "cell_type": "code",
   "execution_count": 10,
   "metadata": {},
   "outputs": [
    {
     "name": "stdout",
     "output_type": "stream",
     "text": [
      "Optimization started\n",
      "chiSqr: 4161.854578255158, N accepted: 0 / 0\n",
      "chiSqr: 4161.854578255158, N accepted: 0 / 1\n",
      "chiSqr: 141.17766238578335, N accepted: 362 / 1001\n",
      "chiSqr: 15.199812210469265, N accepted: 516 / 2001\n",
      "chiSqr: 2.8216735723063766, N accepted: 608 / 3001\n",
      "chiSqr: 1.3046053720971629, N accepted: 645 / 4001\n"
     ]
    },
    {
     "data": {
      "text/html": [
       "<div>\n",
       "<style scoped>\n",
       "    .dataframe tbody tr th:only-of-type {\n",
       "        vertical-align: middle;\n",
       "    }\n",
       "\n",
       "    .dataframe tbody tr th {\n",
       "        vertical-align: top;\n",
       "    }\n",
       "\n",
       "    .dataframe thead th {\n",
       "        text-align: right;\n",
       "    }\n",
       "</style>\n",
       "<table border=\"1\" class=\"dataframe\">\n",
       "  <thead>\n",
       "    <tr style=\"text-align: right;\">\n",
       "      <th></th>\n",
       "      <th>radius</th>\n",
       "    </tr>\n",
       "  </thead>\n",
       "  <tbody>\n",
       "    <tr>\n",
       "      <th>0</th>\n",
       "      <td>47.6752</td>\n",
       "    </tr>\n",
       "    <tr>\n",
       "      <th>1</th>\n",
       "      <td>63.6512</td>\n",
       "    </tr>\n",
       "    <tr>\n",
       "      <th>2</th>\n",
       "      <td>26.4102</td>\n",
       "    </tr>\n",
       "    <tr>\n",
       "      <th>3</th>\n",
       "      <td>75.2911</td>\n",
       "    </tr>\n",
       "    <tr>\n",
       "      <th>4</th>\n",
       "      <td>48.7878</td>\n",
       "    </tr>\n",
       "    <tr>\n",
       "      <th>5</th>\n",
       "      <td>31.8096</td>\n",
       "    </tr>\n",
       "    <tr>\n",
       "      <th>6</th>\n",
       "      <td>6.61595</td>\n",
       "    </tr>\n",
       "    <tr>\n",
       "      <th>7</th>\n",
       "      <td>121.487</td>\n",
       "    </tr>\n",
       "    <tr>\n",
       "      <th>8</th>\n",
       "      <td>98.903</td>\n",
       "    </tr>\n",
       "    <tr>\n",
       "      <th>9</th>\n",
       "      <td>100.428</td>\n",
       "    </tr>\n",
       "    <tr>\n",
       "      <th>10</th>\n",
       "      <td>104.468</td>\n",
       "    </tr>\n",
       "    <tr>\n",
       "      <th>11</th>\n",
       "      <td>42.3365</td>\n",
       "    </tr>\n",
       "    <tr>\n",
       "      <th>12</th>\n",
       "      <td>108.057</td>\n",
       "    </tr>\n",
       "    <tr>\n",
       "      <th>13</th>\n",
       "      <td>37.5981</td>\n",
       "    </tr>\n",
       "    <tr>\n",
       "      <th>14</th>\n",
       "      <td>53.6204</td>\n",
       "    </tr>\n",
       "    <tr>\n",
       "      <th>15</th>\n",
       "      <td>108.92</td>\n",
       "    </tr>\n",
       "    <tr>\n",
       "      <th>16</th>\n",
       "      <td>51.8506</td>\n",
       "    </tr>\n",
       "    <tr>\n",
       "      <th>17</th>\n",
       "      <td>46.3108</td>\n",
       "    </tr>\n",
       "    <tr>\n",
       "      <th>18</th>\n",
       "      <td>46.8007</td>\n",
       "    </tr>\n",
       "    <tr>\n",
       "      <th>19</th>\n",
       "      <td>49.5616</td>\n",
       "    </tr>\n",
       "    <tr>\n",
       "      <th>20</th>\n",
       "      <td>93.2493</td>\n",
       "    </tr>\n",
       "    <tr>\n",
       "      <th>21</th>\n",
       "      <td>53.4111</td>\n",
       "    </tr>\n",
       "    <tr>\n",
       "      <th>22</th>\n",
       "      <td>47.373</td>\n",
       "    </tr>\n",
       "    <tr>\n",
       "      <th>23</th>\n",
       "      <td>34.8138</td>\n",
       "    </tr>\n",
       "    <tr>\n",
       "      <th>24</th>\n",
       "      <td>90.4201</td>\n",
       "    </tr>\n",
       "    <tr>\n",
       "      <th>25</th>\n",
       "      <td>37.0065</td>\n",
       "    </tr>\n",
       "    <tr>\n",
       "      <th>26</th>\n",
       "      <td>52.3059</td>\n",
       "    </tr>\n",
       "    <tr>\n",
       "      <th>27</th>\n",
       "      <td>15.1851</td>\n",
       "    </tr>\n",
       "    <tr>\n",
       "      <th>28</th>\n",
       "      <td>85.8397</td>\n",
       "    </tr>\n",
       "    <tr>\n",
       "      <th>29</th>\n",
       "      <td>92.5825</td>\n",
       "    </tr>\n",
       "    <tr>\n",
       "      <th>...</th>\n",
       "      <td>...</td>\n",
       "    </tr>\n",
       "    <tr>\n",
       "      <th>270</th>\n",
       "      <td>98.8283</td>\n",
       "    </tr>\n",
       "    <tr>\n",
       "      <th>271</th>\n",
       "      <td>38.3842</td>\n",
       "    </tr>\n",
       "    <tr>\n",
       "      <th>272</th>\n",
       "      <td>94.9439</td>\n",
       "    </tr>\n",
       "    <tr>\n",
       "      <th>273</th>\n",
       "      <td>10.4963</td>\n",
       "    </tr>\n",
       "    <tr>\n",
       "      <th>274</th>\n",
       "      <td>35.06</td>\n",
       "    </tr>\n",
       "    <tr>\n",
       "      <th>275</th>\n",
       "      <td>95.1185</td>\n",
       "    </tr>\n",
       "    <tr>\n",
       "      <th>276</th>\n",
       "      <td>45.2306</td>\n",
       "    </tr>\n",
       "    <tr>\n",
       "      <th>277</th>\n",
       "      <td>117.46</td>\n",
       "    </tr>\n",
       "    <tr>\n",
       "      <th>278</th>\n",
       "      <td>110.124</td>\n",
       "    </tr>\n",
       "    <tr>\n",
       "      <th>279</th>\n",
       "      <td>96.9145</td>\n",
       "    </tr>\n",
       "    <tr>\n",
       "      <th>280</th>\n",
       "      <td>115.175</td>\n",
       "    </tr>\n",
       "    <tr>\n",
       "      <th>281</th>\n",
       "      <td>23.4667</td>\n",
       "    </tr>\n",
       "    <tr>\n",
       "      <th>282</th>\n",
       "      <td>62.3072</td>\n",
       "    </tr>\n",
       "    <tr>\n",
       "      <th>283</th>\n",
       "      <td>92.0938</td>\n",
       "    </tr>\n",
       "    <tr>\n",
       "      <th>284</th>\n",
       "      <td>108.937</td>\n",
       "    </tr>\n",
       "    <tr>\n",
       "      <th>285</th>\n",
       "      <td>97.9276</td>\n",
       "    </tr>\n",
       "    <tr>\n",
       "      <th>286</th>\n",
       "      <td>43.5868</td>\n",
       "    </tr>\n",
       "    <tr>\n",
       "      <th>287</th>\n",
       "      <td>11.8891</td>\n",
       "    </tr>\n",
       "    <tr>\n",
       "      <th>288</th>\n",
       "      <td>105.912</td>\n",
       "    </tr>\n",
       "    <tr>\n",
       "      <th>289</th>\n",
       "      <td>99.9268</td>\n",
       "    </tr>\n",
       "    <tr>\n",
       "      <th>290</th>\n",
       "      <td>82.15</td>\n",
       "    </tr>\n",
       "    <tr>\n",
       "      <th>291</th>\n",
       "      <td>60.0964</td>\n",
       "    </tr>\n",
       "    <tr>\n",
       "      <th>292</th>\n",
       "      <td>119.647</td>\n",
       "    </tr>\n",
       "    <tr>\n",
       "      <th>293</th>\n",
       "      <td>60.8191</td>\n",
       "    </tr>\n",
       "    <tr>\n",
       "      <th>294</th>\n",
       "      <td>102.813</td>\n",
       "    </tr>\n",
       "    <tr>\n",
       "      <th>295</th>\n",
       "      <td>92.3093</td>\n",
       "    </tr>\n",
       "    <tr>\n",
       "      <th>296</th>\n",
       "      <td>107.831</td>\n",
       "    </tr>\n",
       "    <tr>\n",
       "      <th>297</th>\n",
       "      <td>104.23</td>\n",
       "    </tr>\n",
       "    <tr>\n",
       "      <th>298</th>\n",
       "      <td>11.3079</td>\n",
       "    </tr>\n",
       "    <tr>\n",
       "      <th>299</th>\n",
       "      <td>101.17</td>\n",
       "    </tr>\n",
       "  </tbody>\n",
       "</table>\n",
       "<p>300 rows × 1 columns</p>\n",
       "</div>"
      ],
      "text/plain": [
       "      radius\n",
       "0    47.6752\n",
       "1    63.6512\n",
       "2    26.4102\n",
       "3    75.2911\n",
       "4    48.7878\n",
       "5    31.8096\n",
       "6    6.61595\n",
       "7    121.487\n",
       "8     98.903\n",
       "9    100.428\n",
       "10   104.468\n",
       "11   42.3365\n",
       "12   108.057\n",
       "13   37.5981\n",
       "14   53.6204\n",
       "15    108.92\n",
       "16   51.8506\n",
       "17   46.3108\n",
       "18   46.8007\n",
       "19   49.5616\n",
       "20   93.2493\n",
       "21   53.4111\n",
       "22    47.373\n",
       "23   34.8138\n",
       "24   90.4201\n",
       "25   37.0065\n",
       "26   52.3059\n",
       "27   15.1851\n",
       "28   85.8397\n",
       "29   92.5825\n",
       "..       ...\n",
       "270  98.8283\n",
       "271  38.3842\n",
       "272  94.9439\n",
       "273  10.4963\n",
       "274    35.06\n",
       "275  95.1185\n",
       "276  45.2306\n",
       "277   117.46\n",
       "278  110.124\n",
       "279  96.9145\n",
       "280  115.175\n",
       "281  23.4667\n",
       "282  62.3072\n",
       "283  92.0938\n",
       "284  108.937\n",
       "285  97.9276\n",
       "286  43.5868\n",
       "287  11.8891\n",
       "288  105.912\n",
       "289  99.9268\n",
       "290    82.15\n",
       "291  60.0964\n",
       "292  119.647\n",
       "293  60.8191\n",
       "294  102.813\n",
       "295  92.3093\n",
       "296  107.831\n",
       "297   104.23\n",
       "298  11.3079\n",
       "299   101.17\n",
       "\n",
       "[300 rows x 1 columns]"
      ]
     },
     "execution_count": 10,
     "metadata": {},
     "output_type": "execute_result"
    }
   ],
   "source": [
    "# all separate instances, but producing the same result. random needs seed?\n",
    "# model = sasmodels.core.load_model('sphere', dtype = \"fast\")\n",
    "\n",
    "\n",
    "def runit(seed):\n",
    "    # # it runs with a single kernel, but I'm a bir afraid of cross-talk between the instances and volume calculations..\n",
    "    model = sasmodels.core.load_model('sphere', dtype = \"fast\", platform = \"ocl\")\n",
    "    # kernel = model.make_kernel(measData[\"Q\"])\n",
    "    mcopt = McOpt(nContrib = 300, maxIter = 1e5, convCrit = 1, nRep = 10)\n",
    "    mcpar = McModel(\n",
    "        func = model, seed = seed,\n",
    "        fitParameterLimits = {\"radius\": (3, 315)}, \n",
    "        staticParameters = {\"background\": 0, \"sld\" : 1, \"sld_solvent\" : 0, })\n",
    "    mc = McCore(measData, model = mcpar, opt = mcopt)\n",
    "    mc._OSB.xBounds = ([0, 1e7], [-1e4, 1e4])\n",
    "    mc.optimize()\n",
    "    mc._model.kernel.release()\n",
    "    return mc._model.parameterSet\n",
    "\n",
    "runit(1)\n",
    "# Pool = multiprocessing.Pool(processes = multiprocessing.cpu_count())\n",
    "# mapParam = [i for i in range(int(10))]\n",
    "# rawData = Pool.map(runit, mapParam) "
   ]
  },
  {
   "cell_type": "code",
   "execution_count": 17,
   "metadata": {},
   "outputs": [
    {
     "ename": "AttributeError",
     "evalue": "'list' object has no attribute 'x'",
     "output_type": "error",
     "traceback": [
      "\u001b[0;31m---------------------------------------------------------------------------\u001b[0m",
      "\u001b[0;31mAttributeError\u001b[0m                            Traceback (most recent call last)",
      "\u001b[0;32m<ipython-input-17-58ce4f16bd17>\u001b[0m in \u001b[0;36m<module>\u001b[0;34m()\u001b[0m\n\u001b[1;32m      2\u001b[0m \u001b[0;34m\u001b[0m\u001b[0m\n\u001b[1;32m      3\u001b[0m \u001b[0msasmodels\u001b[0m\u001b[0;34m.\u001b[0m\u001b[0mdirect_model\u001b[0m\u001b[0;34m.\u001b[0m\u001b[0mDirectModel\u001b[0m\u001b[0;34m\u001b[0m\u001b[0m\n\u001b[0;32m----> 4\u001b[0;31m \u001b[0mkernel1\u001b[0m \u001b[0;34m=\u001b[0m \u001b[0msasmodels\u001b[0m\u001b[0;34m.\u001b[0m\u001b[0mdirect_model\u001b[0m\u001b[0;34m.\u001b[0m\u001b[0mDirectModel\u001b[0m\u001b[0;34m(\u001b[0m\u001b[0mmeasData\u001b[0m\u001b[0;34m[\u001b[0m\u001b[0;34m\"Q\"\u001b[0m\u001b[0;34m]\u001b[0m\u001b[0;34m,\u001b[0m \u001b[0mmodel\u001b[0m\u001b[0;34m)\u001b[0m\u001b[0;34m\u001b[0m\u001b[0m\n\u001b[0m",
      "\u001b[0;32m~/Code/sasmodels/sasmodels/direct_model.py\u001b[0m in \u001b[0;36m__init__\u001b[0;34m(self, data, model, cutoff)\u001b[0m\n\u001b[1;32m    380\u001b[0m         \u001b[0mself\u001b[0m\u001b[0;34m.\u001b[0m\u001b[0mcutoff\u001b[0m \u001b[0;34m=\u001b[0m \u001b[0mcutoff\u001b[0m\u001b[0;34m\u001b[0m\u001b[0m\n\u001b[1;32m    381\u001b[0m         \u001b[0;31m# Note: _interpret_data defines the model attributes\u001b[0m\u001b[0;34m\u001b[0m\u001b[0;34m\u001b[0m\u001b[0m\n\u001b[0;32m--> 382\u001b[0;31m         \u001b[0mself\u001b[0m\u001b[0;34m.\u001b[0m\u001b[0m_interpret_data\u001b[0m\u001b[0;34m(\u001b[0m\u001b[0mdata\u001b[0m\u001b[0;34m,\u001b[0m \u001b[0mmodel\u001b[0m\u001b[0;34m)\u001b[0m\u001b[0;34m\u001b[0m\u001b[0m\n\u001b[0m\u001b[1;32m    383\u001b[0m \u001b[0;34m\u001b[0m\u001b[0m\n\u001b[1;32m    384\u001b[0m     \u001b[0;32mdef\u001b[0m \u001b[0m__call__\u001b[0m\u001b[0;34m(\u001b[0m\u001b[0mself\u001b[0m\u001b[0;34m,\u001b[0m \u001b[0;34m**\u001b[0m\u001b[0mpars\u001b[0m\u001b[0;34m)\u001b[0m\u001b[0;34m:\u001b[0m\u001b[0;34m\u001b[0m\u001b[0m\n",
      "\u001b[0;32m~/Code/sasmodels/sasmodels/direct_model.py\u001b[0m in \u001b[0;36m_interpret_data\u001b[0;34m(self, data, model)\u001b[0m\n\u001b[1;32m    262\u001b[0m             \u001b[0mq_vectors\u001b[0m \u001b[0;34m=\u001b[0m \u001b[0mres\u001b[0m\u001b[0;34m.\u001b[0m\u001b[0mq_calc\u001b[0m\u001b[0;34m\u001b[0m\u001b[0m\n\u001b[1;32m    263\u001b[0m         \u001b[0;32melif\u001b[0m \u001b[0mself\u001b[0m\u001b[0;34m.\u001b[0m\u001b[0mdata_type\u001b[0m \u001b[0;34m==\u001b[0m \u001b[0;34m'Iq'\u001b[0m\u001b[0;34m:\u001b[0m\u001b[0;34m\u001b[0m\u001b[0m\n\u001b[0;32m--> 264\u001b[0;31m             \u001b[0mindex\u001b[0m \u001b[0;34m=\u001b[0m \u001b[0;34m(\u001b[0m\u001b[0mdata\u001b[0m\u001b[0;34m.\u001b[0m\u001b[0mx\u001b[0m \u001b[0;34m>=\u001b[0m \u001b[0mdata\u001b[0m\u001b[0;34m.\u001b[0m\u001b[0mqmin\u001b[0m\u001b[0;34m)\u001b[0m \u001b[0;34m&\u001b[0m \u001b[0;34m(\u001b[0m\u001b[0mdata\u001b[0m\u001b[0;34m.\u001b[0m\u001b[0mx\u001b[0m \u001b[0;34m<=\u001b[0m \u001b[0mdata\u001b[0m\u001b[0;34m.\u001b[0m\u001b[0mqmax\u001b[0m\u001b[0;34m)\u001b[0m\u001b[0;34m\u001b[0m\u001b[0m\n\u001b[0m\u001b[1;32m    265\u001b[0m             \u001b[0;32mif\u001b[0m \u001b[0mdata\u001b[0m\u001b[0;34m.\u001b[0m\u001b[0my\u001b[0m \u001b[0;32mis\u001b[0m \u001b[0;32mnot\u001b[0m \u001b[0;32mNone\u001b[0m\u001b[0;34m:\u001b[0m\u001b[0;34m\u001b[0m\u001b[0m\n\u001b[1;32m    266\u001b[0m                 \u001b[0mindex\u001b[0m \u001b[0;34m&=\u001b[0m \u001b[0;34m~\u001b[0m\u001b[0mnp\u001b[0m\u001b[0;34m.\u001b[0m\u001b[0misnan\u001b[0m\u001b[0;34m(\u001b[0m\u001b[0mdata\u001b[0m\u001b[0;34m.\u001b[0m\u001b[0my\u001b[0m\u001b[0;34m)\u001b[0m\u001b[0;34m\u001b[0m\u001b[0m\n",
      "\u001b[0;31mAttributeError\u001b[0m: 'list' object has no attribute 'x'"
     ]
    }
   ],
   "source": [
    "# Paul suggested doing it this way.. doesn't work..\n",
    "\n",
    "sasmodels.direct_model.DirectModel\n",
    "kernel1 = sasmodels.direct_model.DirectModel(measData[\"Q\"], model)"
   ]
  },
  {
   "cell_type": "code",
   "execution_count": 18,
   "metadata": {},
   "outputs": [
    {
     "ename": "NameError",
     "evalue": "name 'kernel' is not defined",
     "output_type": "error",
     "traceback": [
      "\u001b[0;31m---------------------------------------------------------------------------\u001b[0m",
      "\u001b[0;31mNameError\u001b[0m                                 Traceback (most recent call last)",
      "\u001b[0;32m<ipython-input-18-0eb32e37cf32>\u001b[0m in \u001b[0;36m<module>\u001b[0;34m()\u001b[0m\n\u001b[1;32m      1\u001b[0m \u001b[0;31m# continuation of Paul's suggestions:\u001b[0m\u001b[0;34m\u001b[0m\u001b[0;34m\u001b[0m\u001b[0m\n\u001b[1;32m      2\u001b[0m \u001b[0;34m\u001b[0m\u001b[0m\n\u001b[0;32m----> 3\u001b[0;31m \u001b[0mparameters\u001b[0m \u001b[0;34m=\u001b[0m \u001b[0mkernel\u001b[0m\u001b[0;34m.\u001b[0m\u001b[0minfo\u001b[0m\u001b[0;34m.\u001b[0m\u001b[0mparameters\u001b[0m\u001b[0;34m\u001b[0m\u001b[0m\n\u001b[0m\u001b[1;32m      4\u001b[0m \u001b[0mmesh\u001b[0m \u001b[0;34m=\u001b[0m \u001b[0;34m[\u001b[0m\u001b[0;34m(\u001b[0m\u001b[0mnp\u001b[0m\u001b[0;34m.\u001b[0m\u001b[0mnan\u001b[0m\u001b[0;34m,\u001b[0m \u001b[0mnp\u001b[0m\u001b[0;34m.\u001b[0m\u001b[0mnan\u001b[0m\u001b[0;34m,\u001b[0m \u001b[0;36m1.0\u001b[0m\u001b[0;34m)\u001b[0m \u001b[0;32mfor\u001b[0m \u001b[0mp\u001b[0m \u001b[0;32min\u001b[0m \u001b[0mparameters\u001b[0m\u001b[0;34m.\u001b[0m\u001b[0mcall_parameters\u001b[0m\u001b[0;34m]\u001b[0m\u001b[0;34m\u001b[0m\u001b[0m\n\u001b[1;32m      5\u001b[0m \u001b[0mcall_details\u001b[0m\u001b[0;34m,\u001b[0m \u001b[0mvalues\u001b[0m\u001b[0;34m,\u001b[0m \u001b[0mmagnetic\u001b[0m \u001b[0;34m=\u001b[0m \u001b[0msasmodels\u001b[0m\u001b[0;34m.\u001b[0m\u001b[0mdirect_model\u001b[0m\u001b[0;34m.\u001b[0m\u001b[0mmake_kernel_args\u001b[0m\u001b[0;34m(\u001b[0m\u001b[0mkernel\u001b[0m\u001b[0;34m,\u001b[0m \u001b[0mmesh\u001b[0m\u001b[0;34m)\u001b[0m\u001b[0;34m\u001b[0m\u001b[0m\n",
      "\u001b[0;31mNameError\u001b[0m: name 'kernel' is not defined"
     ]
    }
   ],
   "source": [
    "# continuation of Paul's suggestions:\n",
    "\n",
    "parameters = kernel.info.parameters\n",
    "mesh = [(np.nan, np.nan, 1.0) for p in parameters.call_parameters]\n",
    "call_details, values, magnetic = sasmodels.direct_model.make_kernel_args(kernel, mesh)\n",
    "call_details.show(values)"
   ]
  },
  {
   "cell_type": "code",
   "execution_count": 27,
   "metadata": {},
   "outputs": [],
   "source": [
    "# continuation of Paul's suggestions:\n",
    "# Set up parameter vectors with NaN placeholders for the parameter set\n",
    "parameters = kernel.info.parameters\n",
    "mesh = [(NaN, NaN, 1.0) for p in parameters.call_parameters]\n",
    "call_details, values, magnetic = make_kernel_args(kernel, mesh)\n",
    "call_details.show(values)\n",
    "\n",
    "# generate views on the values vector to make it easier to assign parameter sets\n",
    "value_vec = values[0:parameters.nvalues]\n",
    "dist_vec = values[parameters.nvalues:parameters.nvalues + call_details.num_weights]\n",
    "\n",
    "# Loop over the monte carlo parameter sets, calling the kernel for each one.\n",
    "Iq = np.zero(kernel.q_input.nq)\n",
    "for parameter_set in monte_carlo(n):\n",
    "   # scale, background in values[0], values[1]\n",
    "   value_vec[:] = parameter_set\n",
    "   dist_vec[:] = parameter_set\n",
    "   Iq += kernel(call_details, values, cutoff, magnetic)\n",
    "Iq /= n\n"
   ]
  },
  {
   "cell_type": "code",
   "execution_count": 9,
   "metadata": {},
   "outputs": [],
   "source": [
    "#openCL?\n",
    "\n",
    "import pyopencl\n",
    "%load_ext pyopencl.ipython_ext"
   ]
  },
  {
   "cell_type": "code",
   "execution_count": 22,
   "metadata": {},
   "outputs": [
    {
     "name": "stderr",
     "output_type": "stream",
     "text": [
      "Process ForkPoolWorker-13:\n",
      "Process ForkPoolWorker-14:\n",
      "Process ForkPoolWorker-11:\n",
      "Process ForkPoolWorker-12:\n",
      "Traceback (most recent call last):\n",
      "Traceback (most recent call last):\n",
      "Traceback (most recent call last):\n",
      "Traceback (most recent call last):\n",
      "  File \"/Users/brian/anaconda3/envs/notebook3/lib/python3.6/multiprocessing/process.py\", line 258, in _bootstrap\n",
      "    self.run()\n",
      "  File \"/Users/brian/anaconda3/envs/notebook3/lib/python3.6/multiprocessing/process.py\", line 258, in _bootstrap\n",
      "    self.run()\n",
      "  File \"/Users/brian/anaconda3/envs/notebook3/lib/python3.6/multiprocessing/process.py\", line 258, in _bootstrap\n",
      "    self.run()\n",
      "  File \"/Users/brian/anaconda3/envs/notebook3/lib/python3.6/multiprocessing/process.py\", line 258, in _bootstrap\n",
      "    self.run()\n",
      "  File \"/Users/brian/anaconda3/envs/notebook3/lib/python3.6/multiprocessing/process.py\", line 93, in run\n",
      "    self._target(*self._args, **self._kwargs)\n",
      "  File \"/Users/brian/anaconda3/envs/notebook3/lib/python3.6/multiprocessing/process.py\", line 93, in run\n",
      "    self._target(*self._args, **self._kwargs)\n",
      "  File \"/Users/brian/anaconda3/envs/notebook3/lib/python3.6/multiprocessing/process.py\", line 93, in run\n",
      "    self._target(*self._args, **self._kwargs)\n",
      "  File \"/Users/brian/anaconda3/envs/notebook3/lib/python3.6/multiprocessing/process.py\", line 93, in run\n",
      "    self._target(*self._args, **self._kwargs)\n",
      "  File \"/Users/brian/anaconda3/envs/notebook3/lib/python3.6/multiprocessing/pool.py\", line 108, in worker\n",
      "    task = get()\n",
      "  File \"/Users/brian/anaconda3/envs/notebook3/lib/python3.6/multiprocessing/pool.py\", line 108, in worker\n",
      "    task = get()\n",
      "  File \"/Users/brian/anaconda3/envs/notebook3/lib/python3.6/multiprocessing/pool.py\", line 108, in worker\n",
      "    task = get()\n",
      "  File \"/Users/brian/anaconda3/envs/notebook3/lib/python3.6/multiprocessing/pool.py\", line 108, in worker\n",
      "    task = get()\n",
      "  File \"/Users/brian/anaconda3/envs/notebook3/lib/python3.6/multiprocessing/queues.py\", line 334, in get\n",
      "    with self._rlock:\n",
      "  File \"/Users/brian/anaconda3/envs/notebook3/lib/python3.6/multiprocessing/queues.py\", line 334, in get\n",
      "    with self._rlock:\n",
      "  File \"/Users/brian/anaconda3/envs/notebook3/lib/python3.6/multiprocessing/synchronize.py\", line 96, in __enter__\n",
      "    return self._semlock.__enter__()\n",
      "  File \"/Users/brian/anaconda3/envs/notebook3/lib/python3.6/multiprocessing/synchronize.py\", line 96, in __enter__\n",
      "    return self._semlock.__enter__()\n",
      "  File \"/Users/brian/anaconda3/envs/notebook3/lib/python3.6/multiprocessing/queues.py\", line 335, in get\n",
      "    res = self._reader.recv_bytes()\n",
      "KeyboardInterrupt\n",
      "  File \"/Users/brian/anaconda3/envs/notebook3/lib/python3.6/multiprocessing/connection.py\", line 216, in recv_bytes\n",
      "    buf = self._recv_bytes(maxlength)\n",
      "KeyboardInterrupt\n",
      "  File \"/Users/brian/anaconda3/envs/notebook3/lib/python3.6/multiprocessing/connection.py\", line 407, in _recv_bytes\n",
      "    buf = self._recv(4)\n",
      "  File \"/Users/brian/anaconda3/envs/notebook3/lib/python3.6/multiprocessing/queues.py\", line 334, in get\n",
      "    with self._rlock:\n",
      "  File \"/Users/brian/anaconda3/envs/notebook3/lib/python3.6/multiprocessing/connection.py\", line 379, in _recv\n",
      "    chunk = read(handle, remaining)\n",
      "  File \"/Users/brian/anaconda3/envs/notebook3/lib/python3.6/multiprocessing/synchronize.py\", line 96, in __enter__\n",
      "    return self._semlock.__enter__()\n",
      "KeyboardInterrupt\n",
      "KeyboardInterrupt\n"
     ]
    },
    {
     "ename": "KeyboardInterrupt",
     "evalue": "",
     "output_type": "error",
     "traceback": [
      "\u001b[0;31m---------------------------------------------------------------------------\u001b[0m",
      "\u001b[0;31mKeyboardInterrupt\u001b[0m                         Traceback (most recent call last)",
      "\u001b[0;32m<ipython-input-22-d21bc261b457>\u001b[0m in \u001b[0;36m<module>\u001b[0;34m()\u001b[0m\n\u001b[1;32m     18\u001b[0m \u001b[0mPool\u001b[0m \u001b[0;34m=\u001b[0m \u001b[0mmultiprocessing\u001b[0m\u001b[0;34m.\u001b[0m\u001b[0mPool\u001b[0m\u001b[0;34m(\u001b[0m\u001b[0mprocesses\u001b[0m \u001b[0;34m=\u001b[0m \u001b[0mmultiprocessing\u001b[0m\u001b[0;34m.\u001b[0m\u001b[0mcpu_count\u001b[0m\u001b[0;34m(\u001b[0m\u001b[0;34m)\u001b[0m\u001b[0;34m)\u001b[0m\u001b[0;34m\u001b[0m\u001b[0m\n\u001b[1;32m     19\u001b[0m \u001b[0mmapParam\u001b[0m \u001b[0;34m=\u001b[0m \u001b[0;34m[\u001b[0m\u001b[0mi\u001b[0m \u001b[0;32mfor\u001b[0m \u001b[0mi\u001b[0m \u001b[0;32min\u001b[0m \u001b[0mrange\u001b[0m\u001b[0;34m(\u001b[0m\u001b[0mint\u001b[0m\u001b[0;34m(\u001b[0m\u001b[0;36m10\u001b[0m\u001b[0;34m)\u001b[0m\u001b[0;34m)\u001b[0m\u001b[0;34m]\u001b[0m\u001b[0;34m\u001b[0m\u001b[0m\n\u001b[0;32m---> 20\u001b[0;31m \u001b[0mrawData\u001b[0m \u001b[0;34m=\u001b[0m \u001b[0mPool\u001b[0m\u001b[0;34m.\u001b[0m\u001b[0mmap\u001b[0m\u001b[0;34m(\u001b[0m\u001b[0mrunit\u001b[0m\u001b[0;34m,\u001b[0m \u001b[0mmapParam\u001b[0m\u001b[0;34m)\u001b[0m\u001b[0;34m\u001b[0m\u001b[0m\n\u001b[0m",
      "\u001b[0;32m~/anaconda3/envs/notebook3/lib/python3.6/multiprocessing/pool.py\u001b[0m in \u001b[0;36mmap\u001b[0;34m(self, func, iterable, chunksize)\u001b[0m\n\u001b[1;32m    264\u001b[0m         \u001b[0;32min\u001b[0m \u001b[0ma\u001b[0m \u001b[0mlist\u001b[0m \u001b[0mthat\u001b[0m \u001b[0;32mis\u001b[0m \u001b[0mreturned\u001b[0m\u001b[0;34m.\u001b[0m\u001b[0;34m\u001b[0m\u001b[0m\n\u001b[1;32m    265\u001b[0m         '''\n\u001b[0;32m--> 266\u001b[0;31m         \u001b[0;32mreturn\u001b[0m \u001b[0mself\u001b[0m\u001b[0;34m.\u001b[0m\u001b[0m_map_async\u001b[0m\u001b[0;34m(\u001b[0m\u001b[0mfunc\u001b[0m\u001b[0;34m,\u001b[0m \u001b[0miterable\u001b[0m\u001b[0;34m,\u001b[0m \u001b[0mmapstar\u001b[0m\u001b[0;34m,\u001b[0m \u001b[0mchunksize\u001b[0m\u001b[0;34m)\u001b[0m\u001b[0;34m.\u001b[0m\u001b[0mget\u001b[0m\u001b[0;34m(\u001b[0m\u001b[0;34m)\u001b[0m\u001b[0;34m\u001b[0m\u001b[0m\n\u001b[0m\u001b[1;32m    267\u001b[0m \u001b[0;34m\u001b[0m\u001b[0m\n\u001b[1;32m    268\u001b[0m     \u001b[0;32mdef\u001b[0m \u001b[0mstarmap\u001b[0m\u001b[0;34m(\u001b[0m\u001b[0mself\u001b[0m\u001b[0;34m,\u001b[0m \u001b[0mfunc\u001b[0m\u001b[0;34m,\u001b[0m \u001b[0miterable\u001b[0m\u001b[0;34m,\u001b[0m \u001b[0mchunksize\u001b[0m\u001b[0;34m=\u001b[0m\u001b[0;32mNone\u001b[0m\u001b[0;34m)\u001b[0m\u001b[0;34m:\u001b[0m\u001b[0;34m\u001b[0m\u001b[0m\n",
      "\u001b[0;32m~/anaconda3/envs/notebook3/lib/python3.6/multiprocessing/pool.py\u001b[0m in \u001b[0;36mget\u001b[0;34m(self, timeout)\u001b[0m\n\u001b[1;32m    636\u001b[0m \u001b[0;34m\u001b[0m\u001b[0m\n\u001b[1;32m    637\u001b[0m     \u001b[0;32mdef\u001b[0m \u001b[0mget\u001b[0m\u001b[0;34m(\u001b[0m\u001b[0mself\u001b[0m\u001b[0;34m,\u001b[0m \u001b[0mtimeout\u001b[0m\u001b[0;34m=\u001b[0m\u001b[0;32mNone\u001b[0m\u001b[0;34m)\u001b[0m\u001b[0;34m:\u001b[0m\u001b[0;34m\u001b[0m\u001b[0m\n\u001b[0;32m--> 638\u001b[0;31m         \u001b[0mself\u001b[0m\u001b[0;34m.\u001b[0m\u001b[0mwait\u001b[0m\u001b[0;34m(\u001b[0m\u001b[0mtimeout\u001b[0m\u001b[0;34m)\u001b[0m\u001b[0;34m\u001b[0m\u001b[0m\n\u001b[0m\u001b[1;32m    639\u001b[0m         \u001b[0;32mif\u001b[0m \u001b[0;32mnot\u001b[0m \u001b[0mself\u001b[0m\u001b[0;34m.\u001b[0m\u001b[0mready\u001b[0m\u001b[0;34m(\u001b[0m\u001b[0;34m)\u001b[0m\u001b[0;34m:\u001b[0m\u001b[0;34m\u001b[0m\u001b[0m\n\u001b[1;32m    640\u001b[0m             \u001b[0;32mraise\u001b[0m \u001b[0mTimeoutError\u001b[0m\u001b[0;34m\u001b[0m\u001b[0m\n",
      "\u001b[0;32m~/anaconda3/envs/notebook3/lib/python3.6/multiprocessing/pool.py\u001b[0m in \u001b[0;36mwait\u001b[0;34m(self, timeout)\u001b[0m\n\u001b[1;32m    633\u001b[0m \u001b[0;34m\u001b[0m\u001b[0m\n\u001b[1;32m    634\u001b[0m     \u001b[0;32mdef\u001b[0m \u001b[0mwait\u001b[0m\u001b[0;34m(\u001b[0m\u001b[0mself\u001b[0m\u001b[0;34m,\u001b[0m \u001b[0mtimeout\u001b[0m\u001b[0;34m=\u001b[0m\u001b[0;32mNone\u001b[0m\u001b[0;34m)\u001b[0m\u001b[0;34m:\u001b[0m\u001b[0;34m\u001b[0m\u001b[0m\n\u001b[0;32m--> 635\u001b[0;31m         \u001b[0mself\u001b[0m\u001b[0;34m.\u001b[0m\u001b[0m_event\u001b[0m\u001b[0;34m.\u001b[0m\u001b[0mwait\u001b[0m\u001b[0;34m(\u001b[0m\u001b[0mtimeout\u001b[0m\u001b[0;34m)\u001b[0m\u001b[0;34m\u001b[0m\u001b[0m\n\u001b[0m\u001b[1;32m    636\u001b[0m \u001b[0;34m\u001b[0m\u001b[0m\n\u001b[1;32m    637\u001b[0m     \u001b[0;32mdef\u001b[0m \u001b[0mget\u001b[0m\u001b[0;34m(\u001b[0m\u001b[0mself\u001b[0m\u001b[0;34m,\u001b[0m \u001b[0mtimeout\u001b[0m\u001b[0;34m=\u001b[0m\u001b[0;32mNone\u001b[0m\u001b[0;34m)\u001b[0m\u001b[0;34m:\u001b[0m\u001b[0;34m\u001b[0m\u001b[0m\n",
      "\u001b[0;32m~/anaconda3/envs/notebook3/lib/python3.6/threading.py\u001b[0m in \u001b[0;36mwait\u001b[0;34m(self, timeout)\u001b[0m\n\u001b[1;32m    549\u001b[0m             \u001b[0msignaled\u001b[0m \u001b[0;34m=\u001b[0m \u001b[0mself\u001b[0m\u001b[0;34m.\u001b[0m\u001b[0m_flag\u001b[0m\u001b[0;34m\u001b[0m\u001b[0m\n\u001b[1;32m    550\u001b[0m             \u001b[0;32mif\u001b[0m \u001b[0;32mnot\u001b[0m \u001b[0msignaled\u001b[0m\u001b[0;34m:\u001b[0m\u001b[0;34m\u001b[0m\u001b[0m\n\u001b[0;32m--> 551\u001b[0;31m                 \u001b[0msignaled\u001b[0m \u001b[0;34m=\u001b[0m \u001b[0mself\u001b[0m\u001b[0;34m.\u001b[0m\u001b[0m_cond\u001b[0m\u001b[0;34m.\u001b[0m\u001b[0mwait\u001b[0m\u001b[0;34m(\u001b[0m\u001b[0mtimeout\u001b[0m\u001b[0;34m)\u001b[0m\u001b[0;34m\u001b[0m\u001b[0m\n\u001b[0m\u001b[1;32m    552\u001b[0m             \u001b[0;32mreturn\u001b[0m \u001b[0msignaled\u001b[0m\u001b[0;34m\u001b[0m\u001b[0m\n\u001b[1;32m    553\u001b[0m \u001b[0;34m\u001b[0m\u001b[0m\n",
      "\u001b[0;32m~/anaconda3/envs/notebook3/lib/python3.6/threading.py\u001b[0m in \u001b[0;36mwait\u001b[0;34m(self, timeout)\u001b[0m\n\u001b[1;32m    293\u001b[0m         \u001b[0;32mtry\u001b[0m\u001b[0;34m:\u001b[0m    \u001b[0;31m# restore state no matter what (e.g., KeyboardInterrupt)\u001b[0m\u001b[0;34m\u001b[0m\u001b[0m\n\u001b[1;32m    294\u001b[0m             \u001b[0;32mif\u001b[0m \u001b[0mtimeout\u001b[0m \u001b[0;32mis\u001b[0m \u001b[0;32mNone\u001b[0m\u001b[0;34m:\u001b[0m\u001b[0;34m\u001b[0m\u001b[0m\n\u001b[0;32m--> 295\u001b[0;31m                 \u001b[0mwaiter\u001b[0m\u001b[0;34m.\u001b[0m\u001b[0macquire\u001b[0m\u001b[0;34m(\u001b[0m\u001b[0;34m)\u001b[0m\u001b[0;34m\u001b[0m\u001b[0m\n\u001b[0m\u001b[1;32m    296\u001b[0m                 \u001b[0mgotit\u001b[0m \u001b[0;34m=\u001b[0m \u001b[0;32mTrue\u001b[0m\u001b[0;34m\u001b[0m\u001b[0m\n\u001b[1;32m    297\u001b[0m             \u001b[0;32melse\u001b[0m\u001b[0;34m:\u001b[0m\u001b[0;34m\u001b[0m\u001b[0m\n",
      "\u001b[0;31mKeyboardInterrupt\u001b[0m: "
     ]
    }
   ],
   "source": [
    "# all separate instances, but producing the same result. random needs seed?\n",
    "# model = sasmodels.core.load_model('sphere', dtype = \"fast\")\n",
    "\n",
    "# no longer works??? somehow things get stuck in a wait loop now. \n",
    "model = sasmodels.core.load_model('sphere', dtype = \"fast\", platform = \"ocl\")\n",
    "\n",
    "def runit(seed):\n",
    "    # # it runs with a single kernel, but I'm a bir afraid of cross-talk between the instances and volume calculations..\n",
    "    # kernel = model.make_kernel(measData[\"Q\"])\n",
    "    mcopt = McOpt(nContrib = 300, maxIter = 1e5, convCrit = 1, nRep = 10)\n",
    "    mcpar = McModel(\n",
    "        func = model, seed = seed,\n",
    "        fitParameterLimits = {\"radius\": (3, 315)}, \n",
    "        staticParameters = {\"background\": 0, \"sld\" : 1, \"sld_solvent\" : 0, })\n",
    "    mc = McCore(measData, model = mcpar, opt = mcopt)\n",
    "    mc.optimize()\n",
    "    self._model.kernel.release()\n",
    "    return mc._model.parameterSet\n",
    "\n",
    "Pool = multiprocessing.Pool(processes = multiprocessing.cpu_count())\n",
    "mapParam = [i for i in range(int(10))]\n",
    "rawData = Pool.map(runit, mapParam) "
   ]
  },
  {
   "cell_type": "code",
   "execution_count": 13,
   "metadata": {},
   "outputs": [
    {
     "name": "stdout",
     "output_type": "stream",
     "text": [
      "mc.chisqr: 0.8696311968213971, n accepted: 621\n",
      "Iterate: 3.261826276779175 s\n"
     ]
    }
   ],
   "source": [
    "t = time.time()\n",
    "for n in range(1000):\n",
    "    mc.iterate()\n",
    "print(\"mc.chisqr: {}, n accepted: {}\".format(mc._opt.gof, mc._opt.accepted))\n",
    "print(\"Iterate: {} s\".format(time.time() - t))"
   ]
  },
  {
   "cell_type": "markdown",
   "metadata": {},
   "source": [
    "2D Test\n",
    "-- \n",
    "\n",
    "For this test, we use one of Qais' datasets. This is a dataset from magnetically-oriented pearl strings. "
   ]
  },
  {
   "cell_type": "code",
   "execution_count": 13,
   "metadata": {},
   "outputs": [
    {
     "name": "stderr",
     "output_type": "stream",
     "text": [
      "/Users/brian/anaconda3/envs/notebook3/lib/python3.6/site-packages/ipykernel_launcher.py:26: RuntimeWarning: divide by zero encountered in true_divide\n",
      "/Users/brian/anaconda3/envs/notebook3/lib/python3.6/site-packages/ipykernel_launcher.py:29: RuntimeWarning: divide by zero encountered in true_divide\n",
      "/Users/brian/anaconda3/envs/notebook3/lib/python3.6/site-packages/ipykernel_launcher.py:29: RuntimeWarning: invalid value encountered in true_divide\n",
      "/Users/brian/anaconda3/envs/notebook3/lib/python3.6/site-packages/ipykernel_launcher.py:32: RuntimeWarning: divide by zero encountered in true_divide\n",
      "/Users/brian/anaconda3/envs/notebook3/lib/python3.6/site-packages/ipykernel_launcher.py:33: RuntimeWarning: divide by zero encountered in true_divide\n"
     ]
    }
   ],
   "source": [
    "# test with directly imported data\n",
    "with h5py.File(\"20180503_13_raw_expanded_stacked_processed_180507_125408.nxs\", 'r') as h5f:\n",
    "    I = h5f['/entry/result/data'].value.squeeze()\n",
    "    ISigma = h5f['/entry/result/errors'].value.squeeze()\n",
    "    Qx = h5f['/entry/result/Q-space (inverse Angstrom)'].value\n",
    "    Qy = h5f['/entry/result/Q-space (inverse Angstrom)1'].value\n",
    "with h5py.File(\"Mask conf 3.nxs\", 'r') as h5f:\n",
    "    mask = h5f['/entry/mask/mask'].value.squeeze()\n",
    "newMask = ((I<-500) | mask)\n",
    "newMask = newMask.astype(bool)\n",
    "\n",
    "posNeg = np.sign(np.diff(Qx))\n",
    "posNeg = np.append(posNeg, posNeg[-1])\n",
    "Qx = Qx * posNeg\n",
    "\n",
    "posNeg = np.sign(np.diff(Qy))\n",
    "posNeg = np.append(posNeg, posNeg[-1])\n",
    "Qy = Qy * posNeg\n",
    "\n",
    "Q0 = Qx[:, np.newaxis] + 0 * Qy[np.newaxis, :]\n",
    "Q1 = 0 * Qx[:, np.newaxis] + Qy[np.newaxis, :]\n",
    "\n",
    "a0l, a0h, a1l, a1h = 300, 500, 400, 600\n",
    "# a0l, a0h, a1l, a1h = 200, 600, 300, 700\n",
    "measData = dict()\n",
    "measData[\"IOrig\"] = (I / np.invert(newMask))[a0l: a0h, a1l: a1h]\n",
    "measData[\"kansas\"] = measData[\"IOrig\"].shape\n",
    "measData[\"IOrig\"] = np.reshape(measData[\"IOrig\"], measData[\"IOrig\"].size)\n",
    "measData[\"ISigmaOrig\"] = (ISigma / np.invert(newMask))[a0l: a0h, a1l: a1h]\n",
    "measData[\"ISigmaOrig\"] = np.reshape(measData[\"ISigmaOrig\"], measData[\"ISigmaOrig\"].size)\n",
    "measData[\"QOrig\"] = [\n",
    "    np.reshape((Q0 / np.invert(newMask))[a0l: a0h, a1l: a1h], measData[\"ISigmaOrig\"].size),\n",
    "    np.reshape((Q1 / np.invert(newMask))[a0l: a0h, a1l: a1h], measData[\"ISigmaOrig\"].size)]\n",
    "\n",
    "bArr = np.invert((np.isinf(measData[\"IOrig\"])|(measData[\"ISigmaOrig\"] == 0)))\n",
    "measData[\"I\"] = measData[\"IOrig\"][bArr]\n",
    "measData[\"ISigma\"] = measData[\"ISigmaOrig\"][bArr]\n",
    "measData[\"Q\"] = [measData[\"QOrig\"][0][bArr], measData[\"QOrig\"][1][bArr]]"
   ]
  },
  {
   "cell_type": "code",
   "execution_count": 14,
   "metadata": {},
   "outputs": [
    {
     "name": "stdout",
     "output_type": "stream",
     "text": [
      "param prep: 0.00019097328186035156\n",
      "McCore prep: 2.0614309310913086\n",
      "Iterate: 2.6351571083068848\n",
      "mc.chisqr: 32.29880752436908, n accepted: 1\n"
     ]
    }
   ],
   "source": [
    "import time\n",
    "nContrib = 300\n",
    "\n",
    "model = sasmodels.core.load_model('ellipsoid', dtype = \"fast\")\n",
    "kernel = model.make_kernel(measData[\"Q\"])\n",
    "\n",
    "t = time.time()\n",
    "mcopt = McOpt(nContrib = 600)\n",
    "mcopt.maxAccept = 100000\n",
    "mcopt.maxIter = 100000\n",
    "mcopt.convCrit = 1\n",
    "\n",
    "mcpar = McModel(\n",
    "    func = model, \n",
    "    fitParameterLimits = {\"radius_equatorial\": (1, 300), \n",
    "                          \"radius_polar\": (300, 3000), \n",
    "                          \"phi\": (90-90, 90+90)}, \n",
    "    staticParameters = {\"background\": 0, \"theta\": 90,\n",
    "                        \"sld\" : 1, \"sld_solvent\" : 0, \"scale\": 1 })\n",
    "print(\"param prep: {}\".format(time.time() - t))\n",
    "mc = McCore(measData, model = mcpar, opt = mcopt)\n",
    "print(\"McCore prep: {}\".format(time.time() - t))\n",
    "mc.iterate()\n",
    "print(\"Iterate: {}\".format(time.time() - t))\n",
    "print(\"mc.chisqr: {}, n accepted: {}\".format(mc._opt.gof, mc._opt.accepted))\n",
    "# mc._modelParameters.parameterSet.loc[0].to_dict()"
   ]
  },
  {
   "cell_type": "code",
   "execution_count": 15,
   "metadata": {},
   "outputs": [
    {
     "data": {
      "text/plain": [
       "{'radius_equatorial': 98.09470043041858,\n",
       " 'radius_polar': 1443.774644006324,\n",
       " 'phi': 167.12747001968958}"
      ]
     },
     "execution_count": 15,
     "metadata": {},
     "output_type": "execute_result"
    }
   ],
   "source": [
    "mc._model.parameterSet.loc[0].to_dict()"
   ]
  },
  {
   "cell_type": "code",
   "execution_count": 21,
   "metadata": {},
   "outputs": [
    {
     "data": {
      "text/plain": [
       "0.8114895820617676"
      ]
     },
     "execution_count": 21,
     "metadata": {},
     "output_type": "execute_result"
    }
   ],
   "source": [
    "t = time.time()\n",
    "for contribi in range(300):\n",
    "    sasmodels.direct_model.call_kernel(kernel, mc._model.parameterSet.loc[contribi].to_dict())\n",
    "time.time()-t"
   ]
  },
  {
   "cell_type": "code",
   "execution_count": 22,
   "metadata": {},
   "outputs": [],
   "source": [
    "# %%timeit\n",
    "# mc.iterate()"
   ]
  },
  {
   "cell_type": "code",
   "execution_count": 16,
   "metadata": {},
   "outputs": [
    {
     "name": "stdout",
     "output_type": "stream",
     "text": [
      "Optimization started\n",
      "chiSqr: 32.29880752436908, N accepted: 1 / 1\n"
     ]
    },
    {
     "ename": "KeyboardInterrupt",
     "evalue": "",
     "output_type": "error",
     "traceback": [
      "\u001b[0;31m---------------------------------------------------------------------------\u001b[0m",
      "\u001b[0;31mKeyboardInterrupt\u001b[0m                         Traceback (most recent call last)",
      "\u001b[0;32m<ipython-input-16-293370440234>\u001b[0m in \u001b[0;36m<module>\u001b[0;34m()\u001b[0m\n\u001b[0;32m----> 1\u001b[0;31m \u001b[0mmc\u001b[0m\u001b[0;34m.\u001b[0m\u001b[0moptimize\u001b[0m\u001b[0;34m(\u001b[0m\u001b[0;34m)\u001b[0m\u001b[0;34m\u001b[0m\u001b[0m\n\u001b[0m",
      "\u001b[0;32m<ipython-input-6-4df9170ea023>\u001b[0m in \u001b[0;36moptimize\u001b[0;34m(self)\u001b[0m\n\u001b[1;32m    162\u001b[0m                \u001b[0;34m(\u001b[0m\u001b[0mself\u001b[0m\u001b[0;34m.\u001b[0m\u001b[0m_opt\u001b[0m\u001b[0;34m.\u001b[0m\u001b[0mstep\u001b[0m \u001b[0;34m<\u001b[0m \u001b[0mself\u001b[0m\u001b[0;34m.\u001b[0m\u001b[0m_opt\u001b[0m\u001b[0;34m.\u001b[0m\u001b[0mmaxIter\u001b[0m\u001b[0;34m)\u001b[0m \u001b[0;34m&\u001b[0m       \u001b[0;31m# max number of tries\u001b[0m\u001b[0;34m\u001b[0m\u001b[0m\n\u001b[1;32m    163\u001b[0m                (self._opt.gof > self._opt.convCrit)):       # convergence criterion reached\n\u001b[0;32m--> 164\u001b[0;31m             \u001b[0mself\u001b[0m\u001b[0;34m.\u001b[0m\u001b[0miterate\u001b[0m\u001b[0;34m(\u001b[0m\u001b[0;34m)\u001b[0m\u001b[0;34m\u001b[0m\u001b[0m\n\u001b[0m\u001b[1;32m    165\u001b[0m             \u001b[0;31m# show me every 1000 steps where you are in the optimization:\u001b[0m\u001b[0;34m\u001b[0m\u001b[0;34m\u001b[0m\u001b[0m\n\u001b[1;32m    166\u001b[0m             \u001b[0;32mif\u001b[0m \u001b[0;34m(\u001b[0m\u001b[0mself\u001b[0m\u001b[0;34m.\u001b[0m\u001b[0m_opt\u001b[0m\u001b[0;34m.\u001b[0m\u001b[0mstep\u001b[0m \u001b[0;34m%\u001b[0m \u001b[0;36m1000\u001b[0m \u001b[0;34m==\u001b[0m \u001b[0;36m1\u001b[0m\u001b[0;34m)\u001b[0m\u001b[0;34m:\u001b[0m\u001b[0;34m\u001b[0m\u001b[0m\n",
      "\u001b[0;32m<ipython-input-6-4df9170ea023>\u001b[0m in \u001b[0;36miterate\u001b[0;34m(self)\u001b[0m\n\u001b[1;32m    142\u001b[0m         \u001b[0mself\u001b[0m\u001b[0;34m.\u001b[0m\u001b[0m_model\u001b[0m\u001b[0;34m.\u001b[0m\u001b[0mpick\u001b[0m\u001b[0;34m(\u001b[0m\u001b[0;34m)\u001b[0m \u001b[0;31m# 3 µs\u001b[0m\u001b[0;34m\u001b[0m\u001b[0m\n\u001b[1;32m    143\u001b[0m         \u001b[0;31m# calculate GOF for the new total set:\u001b[0m\u001b[0;34m\u001b[0m\u001b[0;34m\u001b[0m\u001b[0m\n\u001b[0;32m--> 144\u001b[0;31m         \u001b[0mnewGof\u001b[0m \u001b[0;34m=\u001b[0m \u001b[0mself\u001b[0m\u001b[0;34m.\u001b[0m\u001b[0mreEvaluate\u001b[0m\u001b[0;34m(\u001b[0m\u001b[0;34m)\u001b[0m \u001b[0;31m# 2 ms\u001b[0m\u001b[0;34m\u001b[0m\u001b[0m\n\u001b[0m\u001b[1;32m    145\u001b[0m         \u001b[0;31m# if this is an improvement:\u001b[0m\u001b[0;34m\u001b[0m\u001b[0;34m\u001b[0m\u001b[0m\n\u001b[1;32m    146\u001b[0m         \u001b[0;32mif\u001b[0m \u001b[0;34m(\u001b[0m\u001b[0mnewGof\u001b[0m \u001b[0;34m<\u001b[0m \u001b[0mself\u001b[0m\u001b[0;34m.\u001b[0m\u001b[0m_opt\u001b[0m\u001b[0;34m.\u001b[0m\u001b[0mgof\u001b[0m\u001b[0;34m)\u001b[0m\u001b[0;34m:\u001b[0m\u001b[0;34m\u001b[0m\u001b[0m\n",
      "\u001b[0;32m<ipython-input-6-4df9170ea023>\u001b[0m in \u001b[0;36mreEvaluate\u001b[0;34m(self)\u001b[0m\n\u001b[1;32m    100\u001b[0m         \u001b[0;31m# calculate old intensity to subtract:\u001b[0m\u001b[0;34m\u001b[0m\u001b[0;34m\u001b[0m\u001b[0m\n\u001b[1;32m    101\u001b[0m         Iold = self.calcModelI( \n\u001b[0;32m--> 102\u001b[0;31m             \u001b[0mself\u001b[0m\u001b[0;34m.\u001b[0m\u001b[0m_model\u001b[0m\u001b[0;34m.\u001b[0m\u001b[0mparameterSet\u001b[0m\u001b[0;34m.\u001b[0m\u001b[0mloc\u001b[0m\u001b[0;34m[\u001b[0m\u001b[0mself\u001b[0m\u001b[0;34m.\u001b[0m\u001b[0m_opt\u001b[0m\u001b[0;34m.\u001b[0m\u001b[0mcontribIndex\u001b[0m\u001b[0;34m(\u001b[0m\u001b[0;34m)\u001b[0m\u001b[0;34m]\u001b[0m\u001b[0;34m.\u001b[0m\u001b[0mto_dict\u001b[0m\u001b[0;34m(\u001b[0m\u001b[0;34m)\u001b[0m\u001b[0;34m\u001b[0m\u001b[0m\n\u001b[0m\u001b[1;32m    103\u001b[0m         ) \n\u001b[1;32m    104\u001b[0m         \u001b[0;31m# not needed:\u001b[0m\u001b[0;34m\u001b[0m\u001b[0;34m\u001b[0m\u001b[0m\n",
      "\u001b[0;32m<ipython-input-6-4df9170ea023>\u001b[0m in \u001b[0;36mcalcModelI\u001b[0;34m(self, parameters)\u001b[0m\n\u001b[1;32m     53\u001b[0m         return sasmodels.direct_model.call_kernel(\n\u001b[1;32m     54\u001b[0m                 \u001b[0mself\u001b[0m\u001b[0;34m.\u001b[0m\u001b[0m_model\u001b[0m\u001b[0;34m.\u001b[0m\u001b[0mkernel\u001b[0m\u001b[0;34m,\u001b[0m\u001b[0;34m\u001b[0m\u001b[0m\n\u001b[0;32m---> 55\u001b[0;31m                 \u001b[0mparameters\u001b[0m\u001b[0;34m\u001b[0m\u001b[0m\n\u001b[0m\u001b[1;32m     56\u001b[0m             )\n\u001b[1;32m     57\u001b[0m \u001b[0;34m\u001b[0m\u001b[0m\n",
      "\u001b[0;32m~/Code/sasmodels/sasmodels/direct_model.py\u001b[0m in \u001b[0;36mcall_kernel\u001b[0;34m(calculator, pars, cutoff, mono)\u001b[0m\n\u001b[1;32m     59\u001b[0m     \u001b[0mmesh\u001b[0m \u001b[0;34m=\u001b[0m \u001b[0mget_mesh\u001b[0m\u001b[0;34m(\u001b[0m\u001b[0mcalculator\u001b[0m\u001b[0;34m.\u001b[0m\u001b[0minfo\u001b[0m\u001b[0;34m,\u001b[0m \u001b[0mpars\u001b[0m\u001b[0;34m,\u001b[0m \u001b[0mdim\u001b[0m\u001b[0;34m=\u001b[0m\u001b[0mcalculator\u001b[0m\u001b[0;34m.\u001b[0m\u001b[0mdim\u001b[0m\u001b[0;34m,\u001b[0m \u001b[0mmono\u001b[0m\u001b[0;34m=\u001b[0m\u001b[0mmono\u001b[0m\u001b[0;34m)\u001b[0m\u001b[0;34m\u001b[0m\u001b[0m\n\u001b[1;32m     60\u001b[0m     \u001b[0;31m#print(\"pars\", list(zip(*mesh))[0])\u001b[0m\u001b[0;34m\u001b[0m\u001b[0;34m\u001b[0m\u001b[0m\n\u001b[0;32m---> 61\u001b[0;31m     \u001b[0mcall_details\u001b[0m\u001b[0;34m,\u001b[0m \u001b[0mvalues\u001b[0m\u001b[0;34m,\u001b[0m \u001b[0mis_magnetic\u001b[0m \u001b[0;34m=\u001b[0m \u001b[0mmake_kernel_args\u001b[0m\u001b[0;34m(\u001b[0m\u001b[0mcalculator\u001b[0m\u001b[0;34m,\u001b[0m \u001b[0mmesh\u001b[0m\u001b[0;34m)\u001b[0m\u001b[0;34m\u001b[0m\u001b[0m\n\u001b[0m\u001b[1;32m     62\u001b[0m     \u001b[0;31m#print(\"values:\", values)\u001b[0m\u001b[0;34m\u001b[0m\u001b[0;34m\u001b[0m\u001b[0m\n\u001b[1;32m     63\u001b[0m     \u001b[0;32mreturn\u001b[0m \u001b[0mcalculator\u001b[0m\u001b[0;34m(\u001b[0m\u001b[0mcall_details\u001b[0m\u001b[0;34m,\u001b[0m \u001b[0mvalues\u001b[0m\u001b[0;34m,\u001b[0m \u001b[0mcutoff\u001b[0m\u001b[0;34m,\u001b[0m \u001b[0mis_magnetic\u001b[0m\u001b[0;34m)\u001b[0m\u001b[0;34m\u001b[0m\u001b[0m\n",
      "\u001b[0;32m~/Code/sasmodels/sasmodels/details.py\u001b[0m in \u001b[0;36mmake_kernel_args\u001b[0;34m(kernel, mesh)\u001b[0m\n\u001b[1;32m    242\u001b[0m     \u001b[0mlength\u001b[0m \u001b[0;34m=\u001b[0m \u001b[0mnp\u001b[0m\u001b[0;34m.\u001b[0m\u001b[0marray\u001b[0m\u001b[0;34m(\u001b[0m\u001b[0;34m[\u001b[0m\u001b[0mlen\u001b[0m\u001b[0;34m(\u001b[0m\u001b[0mw\u001b[0m\u001b[0;34m)\u001b[0m \u001b[0;32mfor\u001b[0m \u001b[0mw\u001b[0m \u001b[0;32min\u001b[0m \u001b[0mweights\u001b[0m\u001b[0;34m]\u001b[0m\u001b[0;34m)\u001b[0m\u001b[0;34m\u001b[0m\u001b[0m\n\u001b[1;32m    243\u001b[0m     \u001b[0moffset\u001b[0m \u001b[0;34m=\u001b[0m \u001b[0mnp\u001b[0m\u001b[0;34m.\u001b[0m\u001b[0mcumsum\u001b[0m\u001b[0;34m(\u001b[0m\u001b[0mnp\u001b[0m\u001b[0;34m.\u001b[0m\u001b[0mhstack\u001b[0m\u001b[0;34m(\u001b[0m\u001b[0;34m(\u001b[0m\u001b[0;36m0\u001b[0m\u001b[0;34m,\u001b[0m \u001b[0mlength\u001b[0m\u001b[0;34m)\u001b[0m\u001b[0;34m)\u001b[0m\u001b[0;34m)\u001b[0m\u001b[0;34m\u001b[0m\u001b[0m\n\u001b[0;32m--> 244\u001b[0;31m     \u001b[0mcall_details\u001b[0m \u001b[0;34m=\u001b[0m \u001b[0mmake_details\u001b[0m\u001b[0;34m(\u001b[0m\u001b[0mkernel\u001b[0m\u001b[0;34m.\u001b[0m\u001b[0minfo\u001b[0m\u001b[0;34m,\u001b[0m \u001b[0mlength\u001b[0m\u001b[0;34m,\u001b[0m \u001b[0moffset\u001b[0m\u001b[0;34m[\u001b[0m\u001b[0;34m:\u001b[0m\u001b[0;34m-\u001b[0m\u001b[0;36m1\u001b[0m\u001b[0;34m]\u001b[0m\u001b[0;34m,\u001b[0m \u001b[0moffset\u001b[0m\u001b[0;34m[\u001b[0m\u001b[0;34m-\u001b[0m\u001b[0;36m1\u001b[0m\u001b[0;34m]\u001b[0m\u001b[0;34m)\u001b[0m\u001b[0;34m\u001b[0m\u001b[0m\n\u001b[0m\u001b[1;32m    245\u001b[0m     \u001b[0;31m# Pad value array to a 32 value boundary\u001b[0m\u001b[0;34m\u001b[0m\u001b[0;34m\u001b[0m\u001b[0m\n\u001b[1;32m    246\u001b[0m     \u001b[0mdata_len\u001b[0m \u001b[0;34m=\u001b[0m \u001b[0mnvalues\u001b[0m \u001b[0;34m+\u001b[0m \u001b[0;36m2\u001b[0m\u001b[0;34m*\u001b[0m\u001b[0msum\u001b[0m\u001b[0;34m(\u001b[0m\u001b[0mlen\u001b[0m\u001b[0;34m(\u001b[0m\u001b[0mv\u001b[0m\u001b[0;34m)\u001b[0m \u001b[0;32mfor\u001b[0m \u001b[0mv\u001b[0m \u001b[0;32min\u001b[0m \u001b[0mdispersity\u001b[0m\u001b[0;34m)\u001b[0m\u001b[0;34m\u001b[0m\u001b[0m\n",
      "\u001b[0;32m~/Code/sasmodels/sasmodels/details.py\u001b[0m in \u001b[0;36mmake_details\u001b[0;34m(model_info, length, offset, num_weights)\u001b[0m\n\u001b[1;32m    198\u001b[0m     \u001b[0;31m# Check that we aren't using too many polydispersity loops\u001b[0m\u001b[0;34m\u001b[0m\u001b[0;34m\u001b[0m\u001b[0m\n\u001b[1;32m    199\u001b[0m     \u001b[0mnum_active\u001b[0m \u001b[0;34m=\u001b[0m \u001b[0mnp\u001b[0m\u001b[0;34m.\u001b[0m\u001b[0msum\u001b[0m\u001b[0;34m(\u001b[0m\u001b[0mlength\u001b[0m \u001b[0;34m>\u001b[0m \u001b[0;36m1\u001b[0m\u001b[0;34m)\u001b[0m\u001b[0;34m\u001b[0m\u001b[0m\n\u001b[0;32m--> 200\u001b[0;31m     \u001b[0mmax_pd\u001b[0m \u001b[0;34m=\u001b[0m \u001b[0mmodel_info\u001b[0m\u001b[0;34m.\u001b[0m\u001b[0mparameters\u001b[0m\u001b[0;34m.\u001b[0m\u001b[0mmax_pd\u001b[0m\u001b[0;34m\u001b[0m\u001b[0m\n\u001b[0m\u001b[1;32m    201\u001b[0m     \u001b[0;32mif\u001b[0m \u001b[0mnum_active\u001b[0m \u001b[0;34m>\u001b[0m \u001b[0mmax_pd\u001b[0m\u001b[0;34m:\u001b[0m\u001b[0;34m\u001b[0m\u001b[0m\n\u001b[1;32m    202\u001b[0m         \u001b[0;32mraise\u001b[0m \u001b[0mValueError\u001b[0m\u001b[0;34m(\u001b[0m\u001b[0;34m\"Too many polydisperse parameters\"\u001b[0m\u001b[0;34m)\u001b[0m\u001b[0;34m\u001b[0m\u001b[0m\n",
      "\u001b[0;31mKeyboardInterrupt\u001b[0m: "
     ]
    }
   ],
   "source": [
    "mc.optimize()"
   ]
  },
  {
   "cell_type": "code",
   "execution_count": null,
   "metadata": {},
   "outputs": [],
   "source": []
  },
  {
   "cell_type": "code",
   "execution_count": 17,
   "metadata": {},
   "outputs": [
    {
     "data": {
      "text/plain": [
       "17674.754797481208"
      ]
     },
     "execution_count": 17,
     "metadata": {},
     "output_type": "execute_result"
    },
    {
     "data": {
      "image/png": "[encoded data removed]",
      "text/plain": [
       "<Figure size 576x576 with 2 Axes>"
      ]
     },
     "metadata": {},
     "output_type": "display_data"
    }
   ],
   "source": [
    "plt.figure(figsize = [8,8])\n",
    "modelData = dict()\n",
    "modelData[\"Q\"] = measData[\"QOrig\"]\n",
    "modelData[\"I\"] = measData[\"IOrig\"]\n",
    "bArr = np.invert((np.isinf(measData[\"IOrig\"])|(measData[\"ISigmaOrig\"] == 0)))\n",
    "modelData[\"I\"][bArr] = mc._opt.modelI\n",
    "modelData[\"I\"] = modelData[\"I\"].reshape(measData[\"kansas\"])\n",
    "plt.imshow((modelData[\"I\"] * mc._opt.x0[0] + mc._opt.x0[1]), vmin = 0, vmax = 3e5)\n",
    "plt.colorbar()\n",
    "mc._opt.x0[1]"
   ]
  },
  {
   "cell_type": "code",
   "execution_count": 18,
   "metadata": {},
   "outputs": [
    {
     "data": {
      "text/plain": [
       "<matplotlib.colorbar.Colorbar at 0x104c16240>"
      ]
     },
     "execution_count": 18,
     "metadata": {},
     "output_type": "execute_result"
    },
    {
     "data": {
      "image/png": "[encoded data removed]",
      "text/plain": [
       "<Figure size 576x576 with 2 Axes>"
      ]
     },
     "metadata": {},
     "output_type": "display_data"
    }
   ],
   "source": [
    "plt.figure(figsize = [8,8])\n",
    "plt.imshow(I[a0l: a0h, a1l: a1h], vmin = 0, vmax = 3e5)\n",
    "plt.colorbar()"
   ]
  },
  {
   "cell_type": "code",
   "execution_count": 19,
   "metadata": {},
   "outputs": [
    {
     "data": {
      "text/plain": [
       "<matplotlib.colorbar.Colorbar at 0x101a58b438>"
      ]
     },
     "execution_count": 19,
     "metadata": {},
     "output_type": "execute_result"
    },
    {
     "data": {
      "image/png": "[encoded data removed]",
      "text/plain": [
       "<Figure size 576x576 with 2 Axes>"
      ]
     },
     "metadata": {},
     "output_type": "display_data"
    }
   ],
   "source": [
    "plt.figure(figsize = [8,8])\n",
    "plt.imshow((I[a0l: a0h, a1l: a1h] - modelData[\"I\"] * mc._opt.x0[0] + mc._opt.x0[1])/I[a0l: a0h, a1l: a1h], vmin = -1, vmax = 1)\n",
    "plt.colorbar()"
   ]
  },
  {
   "cell_type": "code",
   "execution_count": 20,
   "metadata": {},
   "outputs": [
    {
     "data": {
      "text/plain": [
       "(array([20., 15., 12., 19., 10., 19., 18., 27., 28., 19., 16., 17., 17.,\n",
       "        21., 22., 19., 23., 27., 18., 29., 21., 25., 18., 16., 32., 16.,\n",
       "        17., 18., 18., 23.]),\n",
       " array([ 309.93836907,  399.2417776 ,  488.54518613,  577.84859467,\n",
       "         667.1520032 ,  756.45541173,  845.75882027,  935.0622288 ,\n",
       "        1024.36563733, 1113.66904587, 1202.9724544 , 1292.27586293,\n",
       "        1381.57927147, 1470.88268   , 1560.18608853, 1649.48949707,\n",
       "        1738.7929056 , 1828.09631413, 1917.39972266, 2006.7031312 ,\n",
       "        2096.00653973, 2185.30994826, 2274.6133568 , 2363.91676533,\n",
       "        2453.22017386, 2542.5235824 , 2631.82699093, 2721.13039946,\n",
       "        2810.433808  , 2899.73721653, 2989.04062506]),\n",
       " <a list of 30 Patch objects>)"
      ]
     },
     "execution_count": 20,
     "metadata": {},
     "output_type": "execute_result"
    },
    {
     "data": {
      "image/png": "[encoded data removed]",
      "text/plain": [
       "<Figure size 432x288 with 1 Axes>"
      ]
     },
     "metadata": {},
     "output_type": "display_data"
    }
   ],
   "source": [
    "plt.hist(list(mc._model.parameterSet.radius_polar.values), bins = 30)"
   ]
  },
  {
   "cell_type": "code",
   "execution_count": 21,
   "metadata": {},
   "outputs": [
    {
     "data": {
      "text/plain": [
       "1"
      ]
     },
     "execution_count": 21,
     "metadata": {},
     "output_type": "execute_result"
    }
   ],
   "source": [
    "mc._opt.convCrit"
   ]
  },
  {
   "cell_type": "code",
   "execution_count": 22,
   "metadata": {},
   "outputs": [
    {
     "data": {
      "text/plain": [
       "(array([1.34515307e+01, 1.75222234e+04]), 20.94112966244663)"
      ]
     },
     "execution_count": 22,
     "metadata": {},
     "output_type": "execute_result"
    }
   ],
   "source": [
    "mc._OSB.match(mc._opt.modelI, [1, 1])"
   ]
  },
  {
   "cell_type": "code",
   "execution_count": 23,
   "metadata": {},
   "outputs": [
    {
     "ename": "ValueError",
     "evalue": "cannot reshape array of size 37840 into shape (200,200)",
     "output_type": "error",
     "traceback": [
      "\u001b[0;31m---------------------------------------------------------------------------\u001b[0m",
      "\u001b[0;31mValueError\u001b[0m                                Traceback (most recent call last)",
      "\u001b[0;32m<ipython-input-23-b8c5a9a336e5>\u001b[0m in \u001b[0;36m<module>\u001b[0;34m()\u001b[0m\n\u001b[0;32m----> 1\u001b[0;31m \u001b[0mplt\u001b[0m\u001b[0;34m.\u001b[0m\u001b[0mimshow\u001b[0m\u001b[0;34m(\u001b[0m\u001b[0;34m(\u001b[0m\u001b[0mmc\u001b[0m\u001b[0;34m.\u001b[0m\u001b[0m_OSB\u001b[0m\u001b[0;34m.\u001b[0m\u001b[0mmeasDataISigma\u001b[0m\u001b[0;34m==\u001b[0m\u001b[0;36m0\u001b[0m\u001b[0;34m)\u001b[0m\u001b[0;34m.\u001b[0m\u001b[0mreshape\u001b[0m\u001b[0;34m(\u001b[0m\u001b[0mmeasData\u001b[0m\u001b[0;34m[\u001b[0m\u001b[0;34m\"kansas\"\u001b[0m\u001b[0;34m]\u001b[0m\u001b[0;34m)\u001b[0m\u001b[0;34m)\u001b[0m\u001b[0;34m\u001b[0m\u001b[0m\n\u001b[0m",
      "\u001b[0;31mValueError\u001b[0m: cannot reshape array of size 37840 into shape (200,200)"
     ]
    }
   ],
   "source": [
    "plt.imshow((mc._OSB.measDataISigma==0).reshape(measData[\"kansas\"]))"
   ]
  },
  {
   "cell_type": "code",
   "execution_count": 24,
   "metadata": {},
   "outputs": [
    {
     "ename": "ValueError",
     "evalue": "cannot reshape array of size 37840 into shape (200,200)",
     "output_type": "error",
     "traceback": [
      "\u001b[0;31m---------------------------------------------------------------------------\u001b[0m",
      "\u001b[0;31mValueError\u001b[0m                                Traceback (most recent call last)",
      "\u001b[0;32m<ipython-input-24-acb6214ce445>\u001b[0m in \u001b[0;36m<module>\u001b[0;34m()\u001b[0m\n\u001b[0;32m----> 1\u001b[0;31m \u001b[0mplt\u001b[0m\u001b[0;34m.\u001b[0m\u001b[0mimshow\u001b[0m\u001b[0;34m(\u001b[0m\u001b[0mmc\u001b[0m\u001b[0;34m.\u001b[0m\u001b[0m_opt\u001b[0m\u001b[0;34m.\u001b[0m\u001b[0mmodelI\u001b[0m\u001b[0;34m.\u001b[0m\u001b[0mreshape\u001b[0m\u001b[0;34m(\u001b[0m\u001b[0mmeasData\u001b[0m\u001b[0;34m[\u001b[0m\u001b[0;34m\"kansas\"\u001b[0m\u001b[0;34m]\u001b[0m\u001b[0;34m)\u001b[0m\u001b[0;34m)\u001b[0m\u001b[0;34m\u001b[0m\u001b[0m\n\u001b[0m",
      "\u001b[0;31mValueError\u001b[0m: cannot reshape array of size 37840 into shape (200,200)"
     ]
    }
   ],
   "source": [
    "plt.imshow(mc._opt.modelI.reshape(measData[\"kansas\"]))"
   ]
  },
  {
   "cell_type": "code",
   "execution_count": 555,
   "metadata": {},
   "outputs": [
    {
     "data": {
      "text/plain": [
       "array([1., 0.])"
      ]
     },
     "execution_count": 555,
     "metadata": {},
     "output_type": "execute_result"
    }
   ],
   "source": [
    "# plt.imshow(mc._opt.modelI.reshape(measData[\"kansas\"]))\n",
    "mc._opt.testX0"
   ]
  },
  {
   "cell_type": "code",
   "execution_count": 314,
   "metadata": {},
   "outputs": [
    {
     "name": "stdout",
     "output_type": "stream",
     "text": [
      "1.17 ms ± 40.4 µs per loop (mean ± std. dev. of 7 runs, 1000 loops each)\n"
     ]
    }
   ],
   "source": [
    "%%timeit\n",
    "sasmodels.direct_model.call_kernel(kernel, dict(radius=3.1416, background = 0))"
   ]
  },
  {
   "cell_type": "code",
   "execution_count": 315,
   "metadata": {},
   "outputs": [
    {
     "name": "stderr",
     "output_type": "stream",
     "text": [
      "/Users/brian/anaconda3/envs/notebook3/lib/python3.6/site-packages/ipykernel_launcher.py:36: RuntimeWarning: divide by zero encountered in true_divide\n",
      "/Users/brian/anaconda3/envs/notebook3/lib/python3.6/site-packages/scipy/optimize/optimize.py:663: RuntimeWarning: invalid value encountered in double_scalars\n",
      "  grad[k] = (f(*((xk + d,) + args)) - f0) / d[k]\n"
     ]
    },
    {
     "name": "stdout",
     "output_type": "stream",
     "text": [
      "240 ms ± 1.55 ms per loop (mean ± std. dev. of 7 runs, 1 loop each)\n"
     ]
    }
   ],
   "source": [
    "%%timeit\n",
    "mc.reEvaluate()"
   ]
  },
  {
   "cell_type": "code",
   "execution_count": 317,
   "metadata": {},
   "outputs": [
    {
     "name": "stderr",
     "output_type": "stream",
     "text": [
      "/Users/brian/anaconda3/envs/notebook3/lib/python3.6/site-packages/ipykernel_launcher.py:36: RuntimeWarning: divide by zero encountered in true_divide\n",
      "/Users/brian/anaconda3/envs/notebook3/lib/python3.6/site-packages/scipy/optimize/optimize.py:663: RuntimeWarning: invalid value encountered in double_scalars\n",
      "  grad[k] = (f(*((xk + d,) + args)) - f0) / d[k]\n"
     ]
    },
    {
     "name": "stdout",
     "output_type": "stream",
     "text": [
      "mc.chisqr: nan, n accepted: 0\n",
      "Iterate: 2.524678945541382 s\n"
     ]
    }
   ],
   "source": [
    "t = time.time()\n",
    "for n in range(10):\n",
    "    mc.iterate()\n",
    "print(\"mc.chisqr: {}, n accepted: {}\".format(mc._opt.gof, mc._opt.accepted))\n",
    "print(\"Iterate: {} s\".format(time.time() - t))\n"
   ]
  },
  {
   "cell_type": "code",
   "execution_count": 316,
   "metadata": {},
   "outputs": [
    {
     "data": {
      "text/plain": [
       "array([ 6968.98184328, 44215.46436466])"
      ]
     },
     "execution_count": 316,
     "metadata": {},
     "output_type": "execute_result"
    }
   ],
   "source": [
    "mc._opt.x0"
   ]
  },
  {
   "cell_type": "code",
   "execution_count": 300,
   "metadata": {},
   "outputs": [
    {
     "name": "stdout",
     "output_type": "stream",
     "text": [
      "Optimization started\n",
      "chiSqr: nan, N accepted: 0 / 11\n"
     ]
    },
    {
     "ename": "TypeError",
     "evalue": "'<' not supported between instances of 'int' and 'NoneType'",
     "output_type": "error",
     "traceback": [
      "\u001b[0;31m---------------------------------------------------------------------------\u001b[0m",
      "\u001b[0;31mTypeError\u001b[0m                                 Traceback (most recent call last)",
      "\u001b[0;32m<ipython-input-300-885588f5f21c>\u001b[0m in \u001b[0;36m<module>\u001b[0;34m()\u001b[0m\n\u001b[1;32m      1\u001b[0m \u001b[0mt\u001b[0m \u001b[0;34m=\u001b[0m \u001b[0mtime\u001b[0m\u001b[0;34m.\u001b[0m\u001b[0mtime\u001b[0m\u001b[0;34m(\u001b[0m\u001b[0;34m)\u001b[0m\u001b[0;34m\u001b[0m\u001b[0m\n\u001b[0;32m----> 2\u001b[0;31m \u001b[0mmc\u001b[0m\u001b[0;34m.\u001b[0m\u001b[0moptimize\u001b[0m\u001b[0;34m(\u001b[0m\u001b[0;34m)\u001b[0m\u001b[0;34m\u001b[0m\u001b[0m\n\u001b[0m\u001b[1;32m      3\u001b[0m \u001b[0mprint\u001b[0m\u001b[0;34m(\u001b[0m\u001b[0;34m\"mc.chisqr: {}, n accepted: {}\"\u001b[0m\u001b[0;34m.\u001b[0m\u001b[0mformat\u001b[0m\u001b[0;34m(\u001b[0m\u001b[0mmc\u001b[0m\u001b[0;34m.\u001b[0m\u001b[0m_opt\u001b[0m\u001b[0;34m.\u001b[0m\u001b[0mgof\u001b[0m\u001b[0;34m,\u001b[0m \u001b[0mmc\u001b[0m\u001b[0;34m.\u001b[0m\u001b[0m_opt\u001b[0m\u001b[0;34m.\u001b[0m\u001b[0maccepted\u001b[0m\u001b[0;34m)\u001b[0m\u001b[0;34m)\u001b[0m\u001b[0;34m\u001b[0m\u001b[0m\n\u001b[1;32m      4\u001b[0m \u001b[0mprint\u001b[0m\u001b[0;34m(\u001b[0m\u001b[0;34m\"optimization: {} s\"\u001b[0m\u001b[0;34m.\u001b[0m\u001b[0mformat\u001b[0m\u001b[0;34m(\u001b[0m\u001b[0mtime\u001b[0m\u001b[0;34m.\u001b[0m\u001b[0mtime\u001b[0m\u001b[0;34m(\u001b[0m\u001b[0;34m)\u001b[0m \u001b[0;34m-\u001b[0m \u001b[0mt\u001b[0m\u001b[0;34m)\u001b[0m\u001b[0;34m)\u001b[0m\u001b[0;34m\u001b[0m\u001b[0m\n",
      "\u001b[0;32m<ipython-input-291-e37f3ba85e41>\u001b[0m in \u001b[0;36moptimize\u001b[0;34m(self)\u001b[0m\n\u001b[1;32m    133\u001b[0m \u001b[0;34m\u001b[0m\u001b[0m\n\u001b[1;32m    134\u001b[0m         while ((self._opt.accepted < self._opt.maxAccept) & \n\u001b[0;32m--> 135\u001b[0;31m                \u001b[0;34m(\u001b[0m\u001b[0mself\u001b[0m\u001b[0;34m.\u001b[0m\u001b[0m_opt\u001b[0m\u001b[0;34m.\u001b[0m\u001b[0mstep\u001b[0m \u001b[0;34m<\u001b[0m \u001b[0mself\u001b[0m\u001b[0;34m.\u001b[0m\u001b[0m_opt\u001b[0m\u001b[0;34m.\u001b[0m\u001b[0mmaxIter\u001b[0m\u001b[0;34m)\u001b[0m \u001b[0;34m&\u001b[0m\u001b[0;34m\u001b[0m\u001b[0m\n\u001b[0m\u001b[1;32m    136\u001b[0m                (self._opt.gof > self._opt.convCrit)):\n\u001b[1;32m    137\u001b[0m             \u001b[0mself\u001b[0m\u001b[0;34m.\u001b[0m\u001b[0miterate\u001b[0m\u001b[0;34m(\u001b[0m\u001b[0;34m)\u001b[0m\u001b[0;34m\u001b[0m\u001b[0m\n",
      "\u001b[0;31mTypeError\u001b[0m: '<' not supported between instances of 'int' and 'NoneType'"
     ]
    }
   ],
   "source": [
    "t = time.time()\n",
    "mc.optimize()\n",
    "print(\"mc.chisqr: {}, n accepted: {}\".format(mc._opt.gof, mc._opt.accepted))\n",
    "print(\"optimization: {} s\".format(time.time() - t))\n",
    "\n"
   ]
  },
  {
   "cell_type": "markdown",
   "metadata": {},
   "source": [
    "Other trials\n",
    "-- \n",
    "Generation of a 2D intensity..."
   ]
  },
  {
   "cell_type": "code",
   "execution_count": 143,
   "metadata": {},
   "outputs": [
    {
     "name": "stdout",
     "output_type": "stream",
     "text": [
      "{'scale': 1, 'background': 0.001, 'sld': 4, 'sld_solvent': 1, 'radius_polar': 20, 'radius_equatorial': 400, 'theta': 60, 'phi': 60, 'up:frac_i': 0.0, 'up:frac_f': 0.0, 'up:angle': 0.0, 'M0:sld': 0.0, 'mtheta:sld': 0.0, 'mphi:sld': 0.0, 'M0:sld_solvent': 0.0, 'mtheta:sld_solvent': 0.0, 'mphi:sld_solvent': 0.0}\n",
      "{'scale': 1, 'background': 0.001, 'sld': 4, 'sld_solvent': 1, 'radius_polar': 15, 'radius_equatorial': 400, 'theta': 60, 'phi': 60, 'up:frac_i': 0.0, 'up:frac_f': 0.0, 'up:angle': 0.0, 'M0:sld': 0.0, 'mtheta:sld': 0.0, 'mphi:sld': 0.0, 'M0:sld_solvent': 0.0, 'mtheta:sld_solvent': 0.0, 'mphi:sld_solvent': 0.0}\n",
      "q2x.shape: (240000,), q2z.shape: (240000,)\n"
     ]
    },
    {
     "data": {
      "text/plain": [
       "<matplotlib.colorbar.Colorbar at 0x1018bcd0f0>"
      ]
     },
     "execution_count": 143,
     "metadata": {},
     "output_type": "execute_result"
    },
    {
     "data": {
      "image/png": "[encoded data removed]",
      "text/plain": [
       "<Figure size 432x288 with 2 Axes>"
      ]
     },
     "metadata": {},
     "output_type": "display_data"
    }
   ],
   "source": [
    "# documentation example on how to calculate a 2D pattern:\n",
    "\n",
    "model = sasmodels.core.load_model('ellipsoid')\n",
    "print(\"{}\".format(model.info.parameters.defaults))\n",
    "model.info.parameters.defaults.update({\"radius_polar\": 15})\n",
    "print(\"{}\".format(model.info.parameters.defaults))\n",
    "qx = np.linspace(-2, 2, 400) # linear\n",
    "qz = np.linspace(-3, 3, 600) # linear \n",
    "q2x = qx + 0 * qz[:, np.newaxis] # make rectangular\n",
    "q2z = qz[:, np.newaxis] + 0 * qx # make rectangular\n",
    "kansas = q2x.shape # save original shape\n",
    "q2x = q2x.reshape(q2x.size) # flatten\n",
    "q2z = q2z.reshape(q2z.size) # flatten\n",
    "print(\"q2x.shape: {}, q2z.shape: {}\".format(q2x.shape, q2z.shape))\n",
    "kernel = model.make_kernel([q2x, q2z]) # feed to kernel\n",
    "# theta is perpendicularity of cylinder with the beam\n",
    "# phi = 90, cylinder is \"vertical\"\n",
    "Iq = sasmodels.direct_model.call_kernel(kernel, dict(\n",
    "    radius_equatorial=3.1416, radius_polar = 10, background = 1e-5, theta = 90,\n",
    "    phi = 90, sld = 1, sld_solvent = 0, \n",
    "))\n",
    "Iq = Iq.reshape(kansas) # move back to original shape\n",
    "plt.imshow(np.log10(Iq)) # plot\n",
    "plt.colorbar() \n",
    "model.release() # free up space in (GPU) memory"
   ]
  },
  {
   "cell_type": "markdown",
   "metadata": {},
   "source": [
    "Test of normal least-squares optimization:\n",
    "--"
   ]
  },
  {
   "cell_type": "code",
   "execution_count": 669,
   "metadata": {},
   "outputs": [],
   "source": [
    "qs = pandas.read_csv(\"quickstartdemo1.csv\", delimiter = ';', header = None, names = [\"Q\", \"I\", \"ISigma\"])\n",
    "measData = qs.to_dict(orient = \"list\")\n",
    "measData[\"Q\"] = [np.array(measData[\"Q\"])]\n",
    "\n",
    "measData[\"I\"] = np.array(measData[\"I\"])\n",
    "measData[\"ISigma\"] = np.array(measData[\"ISigma\"])\n",
    "\n",
    "model = sasmodels.core.load_model('sphere', dtype = \"fast\")\n",
    "kernel = model.make_kernel(measData[\"Q\"])\n",
    "\n",
    "mcpar = McModel(\n",
    "    func = model, \n",
    "    fitParameterLimits = {\"radius\": (3, 315)}, \n",
    "    staticParameters = {\"background\": 0, \"sld\" : 1, \"sld_solvent\" : 0, })\n",
    "\n",
    "def optFunc(x, kernel, measDataI, measDataISigma):\n",
    "    # apply positive bounds to scaling and radius\n",
    "    x[0], x[2] = np.abs(x[0]), np.abs(x[2])\n",
    "    modelI = sasmodels.direct_model.call_kernel(\n",
    "                kernel, \n",
    "        {'scale': x[0], 'background': x[1], 'radius': x[2]}\n",
    "    )\n",
    "    cs = sum(\n",
    "        ((measDataI - modelI)/measDataISigma)**2\n",
    "    ) / measDataI.size\n",
    "    return cs\n",
    "\n",
    "opt = scipy.optimize.minimize(optFunc, \n",
    "                        x0 = [1e8, .5, 12], \n",
    "                        method = \"Nelder-Mead\",\n",
    "                        args = (kernel, measData[\"I\"], measData[\"ISigma\"]),)\n",
    "                        # bounds = [(0, None), \n",
    "                        #           (0, None), (0, None)])\n",
    "\n"
   ]
  },
  {
   "cell_type": "code",
   "execution_count": 670,
   "metadata": {},
   "outputs": [
    {
     "name": "stdout",
     "output_type": "stream",
     "text": [
      "41.8 ms ± 1.73 ms per loop (mean ± std. dev. of 7 runs, 10 loops each)\n"
     ]
    }
   ],
   "source": [
    "%%timeit\n",
    "opt = scipy.optimize.minimize(optFunc, \n",
    "                        x0 = [1e8, .5, 12], \n",
    "                        method = \"Powell\",\n",
    "                        args = (kernel, measData[\"I\"], measData[\"ISigma\"]),)"
   ]
  },
  {
   "cell_type": "code",
   "execution_count": 671,
   "metadata": {},
   "outputs": [
    {
     "name": "stdout",
     "output_type": "stream",
     "text": [
      "82.6 ms ± 2.38 ms per loop (mean ± std. dev. of 7 runs, 10 loops each)\n"
     ]
    }
   ],
   "source": [
    "%%timeit\n",
    "opt = scipy.optimize.minimize(optFunc, \n",
    "                        x0 = [1e8, .5, 12], \n",
    "                        method = \"Nelder-Mead\",\n",
    "                        args = (kernel, measData[\"I\"], measData[\"ISigma\"]),)"
   ]
  },
  {
   "cell_type": "code",
   "execution_count": 672,
   "metadata": {},
   "outputs": [
    {
     "name": "stdout",
     "output_type": "stream",
     "text": [
      "1.34 ms ± 25.7 µs per loop (mean ± std. dev. of 7 runs, 1000 loops each)\n"
     ]
    }
   ],
   "source": [
    "%%timeit\n",
    "opt = scipy.optimize.minimize(optFunc, \n",
    "                        x0 = [1e8, .5, 12], \n",
    "                        method = \"CG\",\n",
    "                        args = (kernel, measData[\"I\"], measData[\"ISigma\"]),)"
   ]
  },
  {
   "cell_type": "code",
   "execution_count": 673,
   "metadata": {},
   "outputs": [
    {
     "name": "stdout",
     "output_type": "stream",
     "text": [
      "1.32 ms ± 22.7 µs per loop (mean ± std. dev. of 7 runs, 1000 loops each)\n"
     ]
    }
   ],
   "source": [
    "%%timeit\n",
    "opt = scipy.optimize.minimize(optFunc, \n",
    "                        x0 = [1e8, .5, 12], \n",
    "                        method = \"BFGS\",\n",
    "                        args = (kernel, measData[\"I\"], measData[\"ISigma\"]),)"
   ]
  },
  {
   "cell_type": "code",
   "execution_count": 674,
   "metadata": {},
   "outputs": [
    {
     "name": "stdout",
     "output_type": "stream",
     "text": [
      "2.83 ms ± 423 µs per loop (mean ± std. dev. of 7 runs, 100 loops each)\n"
     ]
    }
   ],
   "source": [
    "%%timeit\n",
    "opt = scipy.optimize.minimize(optFunc, \n",
    "                        x0 = [1e8, .5, 12], \n",
    "                        method = \"TNC\",\n",
    "                        args = (kernel, measData[\"I\"], measData[\"ISigma\"]),)"
   ]
  },
  {
   "cell_type": "code",
   "execution_count": 675,
   "metadata": {},
   "outputs": [
    {
     "data": {
      "text/plain": [
       " final_simplex: (array([[3.19382903e+06, 9.27543685e-01, 7.22338484e+01],\n",
       "       [3.19382903e+06, 9.27543685e-01, 7.22338484e+01],\n",
       "       [3.19382903e+06, 9.27543685e-01, 7.22338484e+01],\n",
       "       [3.19382903e+06, 9.27543685e-01, 7.22338484e+01]]), array([3313.45435733, 3313.45435733, 3313.45435733, 3313.45435733]))\n",
       "           fun: 3313.4543573342135\n",
       "       message: 'Optimization terminated successfully.'\n",
       "          nfev: 300\n",
       "           nit: 128\n",
       "        status: 0\n",
       "       success: True\n",
       "             x: array([3.19382903e+06, 9.27543685e-01, 7.22338484e+01])"
      ]
     },
     "execution_count": 675,
     "metadata": {},
     "output_type": "execute_result"
    }
   ],
   "source": [
    "opt"
   ]
  },
  {
   "cell_type": "code",
   "execution_count": 676,
   "metadata": {},
   "outputs": [],
   "source": [
    "modelI = sasmodels.direct_model.call_kernel(\n",
    "                kernel, \n",
    "        {'scale': opt.x[0], 'background': opt.x[1], 'radius': opt.x[2]}\n",
    "    )"
   ]
  },
  {
   "cell_type": "code",
   "execution_count": 677,
   "metadata": {},
   "outputs": [
    {
     "data": {
      "image/png": "[encoded data removed]",
      "text/plain": [
       "<Figure size 432x288 with 1 Axes>"
      ]
     },
     "metadata": {},
     "output_type": "display_data"
    }
   ],
   "source": [
    "plt.plot(measData[\"Q\"][0], modelI)\n",
    "plt.plot(measData[\"Q\"][0], measData[\"I\"])\n",
    "plt.yscale(\"log\")"
   ]
  },
  {
   "cell_type": "code",
   "execution_count": 678,
   "metadata": {},
   "outputs": [
    {
     "data": {
      "text/plain": [
       "{'scale': 1,\n",
       " 'background': 0.001,\n",
       " 'sld': 1,\n",
       " 'sld_solvent': 6,\n",
       " 'radius': 50,\n",
       " 'up:frac_i': 0.0,\n",
       " 'up:frac_f': 0.0,\n",
       " 'up:angle': 0.0,\n",
       " 'M0:sld': 0.0,\n",
       " 'mtheta:sld': 0.0,\n",
       " 'mphi:sld': 0.0,\n",
       " 'M0:sld_solvent': 0.0,\n",
       " 'mtheta:sld_solvent': 0.0,\n",
       " 'mphi:sld_solvent': 0.0}"
      ]
     },
     "execution_count": 678,
     "metadata": {},
     "output_type": "execute_result"
    }
   ],
   "source": [
    "model.info.parameters.defaults"
   ]
  },
  {
   "cell_type": "code",
   "execution_count": null,
   "metadata": {},
   "outputs": [],
   "source": []
  }
 ],
 "metadata": {
  "kernelspec": {
   "display_name": "Python 3",
   "language": "python",
   "name": "python3"
  },
  "language_info": {
   "codemirror_mode": {
    "name": "ipython",
    "version": 3
   },
   "file_extension": ".py",
   "mimetype": "text/x-python",
   "name": "python",
   "nbconvert_exporter": "python",
   "pygments_lexer": "ipython3",
   "version": "3.6.5"
  }
 },
 "nbformat": 4,
 "nbformat_minor": 2
}
