{
 "cells": [
  {
   "cell_type": "markdown",
   "metadata": {},
   "source": [
    "# For Windows\n",
    "1. Please download the latest SASview v5 package from\n",
    "   https://github.com/SasView/sasview/tags\n",
    "2. Install SASview\n",
    "3. copy the *sasmodels* directory here (it will be found in the SASview install directory)\n",
    "\n",
    "## In case of error\n",
    "<pre style=\"background: #fdd\">\n",
    "    CalledProcessError: Command '['gcc', ...\n",
    "</pre>\n",
    "Please start the previously installed SASview at least once and create a plot with the desired model function. This will build the selected model from C-sources into a python library in the directory <br />\n",
    "`C:\\Users\\{user}\\.sasmodels\\compiled_models\\sas32_{model}.so`\n",
    "\n",
    "If it still fails, it might be caused by OpenCL being installed while the *pyopencl* package can not be imported in jupyter notebook/lab. Try to disable OpenCL entirely by setting `os.environ[\"SAS_OPENCL\"] = \"none\"` early in the code and check that the desired SASview model was build already (see above)."
   ]
  },
  {
   "cell_type": "markdown",
   "metadata": {},
   "source": [
    "# McSAS example"
   ]
  },
  {
   "cell_type": "code",
   "execution_count": null,
   "metadata": {},
   "outputs": [],
   "source": [
    "import warnings\n",
    "warnings.filterwarnings('ignore')"
   ]
  },
  {
   "cell_type": "code",
   "execution_count": null,
   "metadata": {},
   "outputs": [],
   "source": [
    "import sys, os\n",
    "# disable OpenCL if it causes problems\n",
    "#os.environ[\"SAS_OPENCL\"] = \"none\"\n",
    "# set the location where the sasview-sasmodels are installed:\n",
    "sasmodelsPath = os.path.join(os.getcwd(), \"sasmodels\")\n",
    "sys.path.append(sasmodelsPath)\n",
    "from mcsas3 import mcmodel, mcopt, mccore\n",
    "\n",
    "%matplotlib inline\n",
    "import matplotlib.pyplot as plt\n",
    "from pandas import read_csv"
   ]
  },
  {
   "cell_type": "code",
   "execution_count": null,
   "metadata": {},
   "outputs": [],
   "source": [
    "# import data\n",
    "qs = read_csv(\"quickstartdemo1.csv\", delimiter = ';',\n",
    "              header = None, names = [\"Q\", \"I\", \"ISigma\"])\n",
    "# Q needs to be in a list as in [Q] or [Qx,Qy]\n",
    "# measured intensity I (same shape as Q) and uncertainties ISigma\n",
    "measData = dict(Q = [qs.Q.values], I = qs.I.values,\n",
    "                ISigma = qs.ISigma.values)\n",
    "\n",
    "# initialize optimization settings\n",
    "opt = mcopt.McOpt(maxIter = 1e5, convCrit = 1)\n",
    "# create a model\n",
    "mod = mcmodel.McModel(modelName = \"sphere\", nContrib = 300,\n",
    "                      fitParameterLimits = {\"radius\": (3, 315)}, \n",
    "                      staticParameters = {\"background\": 0,\n",
    "                                          \"sld\" : 1e+6,\n",
    "                                          \"sld_solvent\" : 0, })\n",
    "mc = mccore.McCore(measData, model = mod, opt = opt)\n",
    "mc.optimize()\n",
    "mc._model.kernel.release()\n",
    "print(\"Final chiSqr: {}, N accepted: {}\"\n",
    "      .format(mc._opt.gof, mc._opt.accepted))\n",
    "\n",
    "# storing the results\n",
    "mc._opt.repetition = 0\n",
    "mc.store(filename = \"results.h5\")\n",
    "# plotting the intensity match\n",
    "plt.plot(measData[\"Q\"][0], measData[\"I\"], label = \"Input Data\")\n",
    "plt.yscale(\"log\")\n",
    "plt.xscale(\"log\")\n",
    "plt.xlabel(\"Q (1/nm)\")\n",
    "plt.ylabel(\"I (1/m)\")\n",
    "scale, background = mc._opt.x0[0], mc._opt.x0[1]\n",
    "plt.plot(measData[\"Q\"][0], mc._opt.modelI*scale + background,\n",
    "         label = \"MC fit\")\n",
    "_ = plt.legend(loc = 0)"
   ]
  },
  {
   "cell_type": "code",
   "execution_count": null,
   "metadata": {},
   "outputs": [],
   "source": []
  }
 ],
 "metadata": {
  "kernelspec": {
   "display_name": "Python 3",
   "language": "python",
   "name": "python3"
  },
  "language_info": {
   "codemirror_mode": {
    "name": "ipython",
    "version": 3
   },
   "file_extension": ".py",
   "mimetype": "text/x-python",
   "name": "python",
   "nbconvert_exporter": "python",
   "pygments_lexer": "ipython3",
   "version": "3.7.3"
  }
 },
 "nbformat": 4,
 "nbformat_minor": 2
}
