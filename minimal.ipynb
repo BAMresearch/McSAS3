{
 "cells": [
  {
   "cell_type": "code",
   "execution_count": 4,
   "metadata": {
    "ExecuteTime": {
     "end_time": "2018-10-03T19:14:40.239545Z",
     "start_time": "2018-10-03T19:14:40.236622Z"
    }
   },
   "outputs": [],
   "source": [
    "import warnings\n",
    "warnings.filterwarnings('ignore')"
   ]
  },
  {
   "cell_type": "code",
   "execution_count": 5,
   "metadata": {
    "ExecuteTime": {
     "end_time": "2018-10-03T19:14:51.086338Z",
     "start_time": "2018-10-03T19:14:42.750535Z"
    }
   },
   "outputs": [
    {
     "name": "stdout",
     "output_type": "stream",
     "text": [
      "Optimization started\n",
      "chiSqr: 4218.292226314339, N accepted: 0 / 0\n",
      "chiSqr: 4218.292226314339, N accepted: 0 / 1\n",
      "chiSqr: 145.59208822416386, N accepted: 328 / 1001\n",
      "chiSqr: 9.43600895423131, N accepted: 498 / 2001\n",
      "chiSqr: 1.5414954854810938, N accepted: 577 / 3001\n",
      "Final chiSqr: 0.984314631822739, N accepted: 602\n"
     ]
    },
    {
     "data": {
      "image/png": "[encoded data removed]",
      "text/plain": [
       "<Figure size 432x288 with 1 Axes>"
      ]
     },
     "metadata": {},
     "output_type": "display_data"
    }
   ],
   "source": [
    "import sys, os\n",
    "# set the location where the sasview-sasmodels are installed:\n",
    "sys.path.append(os.path.join(os.getcwd(), \"..\", \"sasmodels\"))\n",
    "import sasmodels\n",
    "import sasmodels.core\n",
    "import sasmodels.direct_model\n",
    "model = sasmodels.core.load_model('sphere', dtype = \"fast\")\n",
    "from mcsas3 import mcmodel, mcopt, mccore\n",
    "\n",
    "# import data\n",
    "from pandas import read_csv\n",
    "qs = read_csv(\"quickstartdemo1.csv\", delimiter = ';',\n",
    "              header = None, names = [\"Q\", \"I\", \"ISigma\"])\n",
    "# Q needs to be in a list as in [Q] or [Qx,Qy]\n",
    "# measured intensity I (same shape as Q) and uncertainties ISigma\n",
    "measData = dict(Q = [qs.Q.values], I = qs.I.values,\n",
    "                ISigma = qs.ISigma.values)\n",
    "\n",
    "# initialize optimization settings\n",
    "mcopt = mcopt.McOpt(nContrib = 300, maxIter = 1e5,\n",
    "                    convCrit = 1., nRep = 10)\n",
    "# create a model\n",
    "mcmod = mcmodel.McModel(func = model, seed = 12,\n",
    "            fitParameterLimits = {\"radius\": (3, 315)}, \n",
    "            staticParameters = {\"background\": 0,\n",
    "                                \"sld\" : 1e+6, \"sld_solvent\" : 0, })\n",
    "mc = mccore.McCore(measData, model = mcmod, opt = mcopt)\n",
    "mc.optimize()\n",
    "mc._model.kernel.release()\n",
    "print(\"Final chiSqr: {}, N accepted: {}\"\n",
    "      .format(mc._opt.gof, mc._opt.accepted))\n",
    "\n",
    "# storing the results\n",
    "mc._ofname = \"results.h5\"\n",
    "mc._opt.repetition = 0\n",
    "mc.store()\n",
    "# plotting the intensity match\n",
    "import matplotlib\n",
    "import matplotlib.pyplot as plt\n",
    "plt.plot(measData[\"Q\"][0], measData[\"I\"], label = \"Input Data\")\n",
    "plt.yscale(\"log\")\n",
    "plt.xscale(\"log\")\n",
    "plt.xlabel(\"Q (1/nm)\")\n",
    "plt.ylabel(\"I (1/m)\")\n",
    "plt.plot(measData[\"Q\"][0],mc._opt.modelI*mc._opt.x0[0]+mc._opt.x0[1],\n",
    "         label = \"MC fit\")\n",
    "_ = plt.legend(loc = 0)"
   ]
  },
  {
   "cell_type": "code",
   "execution_count": null,
   "metadata": {},
   "outputs": [],
   "source": []
  }
 ],
 "metadata": {
  "kernelspec": {
   "display_name": "Python 3",
   "language": "python",
   "name": "python3"
  },
  "language_info": {
   "codemirror_mode": {
    "name": "ipython",
    "version": 3
   },
   "file_extension": ".py",
   "mimetype": "text/x-python",
   "name": "python",
   "nbconvert_exporter": "python",
   "pygments_lexer": "ipython3",
   "version": "3.6.6"
  }
 },
 "nbformat": 4,
 "nbformat_minor": 2
}
