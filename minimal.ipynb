{
 "cells": [
  {
   "cell_type": "markdown",
   "metadata": {},
   "source": [
    "# For Windows\n",
    "1. Please download the latest SasView v5 package from\n",
    "   https://github.com/SasView/sasview/tags\n",
    "2. Install SasView\n",
    "3. Adjust the *sasviewProgramPath* variable accordingly for the path where SasView was installed.\n",
    "\n",
    "## In case of error\n",
    "<pre style=\"background: #fdd\">\n",
    "    CalledProcessError: Command '['gcc', ...\n",
    "</pre>\n",
    "Please start the previously installed SasView at least once and create a plot with the desired model function. This will build the selected model from C-sources into a python library in the directory <br />\n",
    "`C:\\Users\\{user}\\.sasmodels\\compiled_models\\sas32_{model}.so`\n",
    "\n",
    "If it still fails, it might be caused by OpenCL being installed while the *pyopencl* package can not be imported in jupyter notebook/lab. Try to disable OpenCL entirely by setting `os.environ[\"SAS_OPENCL\"] = \"none\"` early in the code and check that the desired SasView model was build already (see above)."
   ]
  },
  {
   "cell_type": "markdown",
   "metadata": {},
   "source": [
    "# McSAS example"
   ]
  },
  {
   "cell_type": "code",
   "execution_count": null,
   "metadata": {},
   "outputs": [],
   "source": [
    "# these need to be loaded at the beginning to avoid errors related to relative imports (ImportWarning in h5py)\n",
    "# might be related to the change of import style for Python 3.5+. Tested on Python 3.7 at 20200417\n",
    "import sys, os, pandas, numpy, scipy \n",
    "from pathlib import Path\n",
    "# these packages are failing to import in McHat if they are not loaded here:\n",
    "import h5py\n",
    "from scipy.special import j0\n",
    "import scipy.optimize\n",
    "\n",
    "\n",
    "%matplotlib inline\n",
    "import matplotlib.pyplot as plt\n",
    "from mcsas3 import McData1D\n",
    "\n",
    "import warnings\n",
    "warnings.filterwarnings('error')"
   ]
  },
  {
   "cell_type": "code",
   "execution_count": null,
   "metadata": {},
   "outputs": [],
   "source": [
    "def plotResults(measData, mcAna):\n",
    "    rect = [0.1, 0.1, 0.8, 0.8]\n",
    "    a1 = plt.axes(rect)\n",
    "    for i in range(len(histRanges)):\n",
    "        mode = mcAna.averageMode(i)\n",
    "        mcAna.debugPlot(i, alpha=0.5,\n",
    "            label=\"hist. {}={:.1f}\".format(\n",
    "                histRanges.iloc[i].parameter.title(),\n",
    "                mode['mean'].valMean))\n",
    "    def setAxes(ax, vert, horiz):\n",
    "        for ax, loc in (ax.xaxis, vert), (ax.yaxis, horiz):\n",
    "            ax.set_label_position(loc)\n",
    "            getattr(ax, 'tick_'+loc)()\n",
    "    setAxes(a1, 'top', 'right')\n",
    "    plt.xlabel(\"R (nm)\")\n",
    "    plt.ylabel(\"Frequency\")\n",
    "\n",
    "    a2=plt.axes(rect, frameon=False)\n",
    "    setAxes(a2, 'bottom', 'left')\n",
    "    barWidth = numpy.diff(measData[\"Q\"][0])\n",
    "    barWidth = numpy.array((barWidth[0],) + tuple(barWidth))*.5\n",
    "    plt.errorbar(measData[\"Q\"][0], mcAna.modelIAvg.modelIMean,\n",
    "                 yerr=mcAna.modelIAvg.modelIStd,\n",
    "                 elinewidth=1, label=\"MC fit\", zorder=2)\n",
    "    plt.plot(measData[\"Q\"][0], measData[\"I\"],\n",
    "             label=\"Input Data\", linewidth=4, zorder=1)\n",
    "    plt.yscale(\"log\")\n",
    "    plt.xscale(\"log\")\n",
    "    plt.xlabel(\"Q (1/nm)\")\n",
    "    plt.ylabel(\"I (1/m)\")\n",
    "\n",
    "    combined = [x for a in (a2, a1)\n",
    "                  for x in zip(*a.get_legend_handles_labels())]\n",
    "    a2.legend(*list(zip(*combined)), loc=4)"
   ]
  },
  {
   "cell_type": "code",
   "execution_count": null,
   "metadata": {},
   "outputs": [],
   "source": [
    "# load required modules\n",
    "\n",
    "homedir = os.path.expanduser(\"~\")\n",
    "# disable OpenCL for multiprocessing on CPU\n",
    "os.environ[\"SAS_OPENCL\"] = \"none\"\n",
    "# set location where the SasView/sasmodels are installed\n",
    "# sasviewPath = os.path.join(homedir, \"AppData\", \"Local\", \"SasView\")\n",
    "sasviewPath = os.path.join(homedir, \"Code\", \"sasmodels\") # BRP-specific\n",
    "if sasviewPath not in sys.path:\n",
    "    sys.path.append(sasviewPath)\n",
    "from mcsas3 import McHat"
   ]
  },
  {
   "cell_type": "markdown",
   "metadata": {},
   "source": [
    "# Spheres example"
   ]
  },
  {
   "cell_type": "code",
   "execution_count": null,
   "metadata": {},
   "outputs": [],
   "source": [
    "mds = McData1D.McData1D(filename = Path('src', 'testdata', 'quickstartdemo1.csv'), nbins = 100, csvargs={'sep' : ';', \"header\": None, \"names\": [\"Q\", \"I\", \"ISigma\"]})"
   ]
  },
  {
   "cell_type": "code",
   "execution_count": null,
   "metadata": {},
   "outputs": [],
   "source": [
    "fh, (ah) = plt.subplots()\n",
    "mds.rawData.plot('Q', 'I', ax = ah)\n",
    "mds.binnedData.plot('Q', 'I', yerr = 'IError', ax = ah, logx = True, logy = True)"
   ]
  },
  {
   "cell_type": "code",
   "execution_count": null,
   "metadata": {},
   "outputs": [],
   "source": [
    "# run the Monte Carlo method\n",
    "mh = McHat.McHat(\n",
    "    modelName=\"sphere\", nContrib=300, modelDType=\"default\",\n",
    "    fitParameterLimits={\"radius\": (1, 314)},\n",
    "    staticParameters={\"background\": 0, \"scaling\": 0.1e6},\n",
    "    maxIter=1e5, convCrit=1, nRep=40, nCores=0, seed=None)\n",
    "md = mds.measData.copy()\n"
   ]
  },
  {
   "cell_type": "code",
   "execution_count": null,
   "metadata": {},
   "outputs": [],
   "source": [
    "mh.run(md, \"resultssphere.h5\")"
   ]
  },
  {
   "cell_type": "code",
   "execution_count": null,
   "metadata": {},
   "outputs": [],
   "source": [
    "# histogram the determined size contributions\n",
    "from mcsas3.mcmodelhistogrammer import McModelHistogrammer\n",
    "from mcsas3.mcanalysis import McAnalysis\n",
    "histRanges = pandas.DataFrame([dict(\n",
    "                parameter=\"radius\", nBin=50, binScale=\"log\",\n",
    "                presetRangeMin=1, presetRangeMax=314,\n",
    "                binWeighting=\"vol\", autoRange=True),\n",
    "                dict(\n",
    "                parameter=\"radius\", nBin=50, binScale=\"linear\",\n",
    "                presetRangeMin=10, presetRangeMax=100,\n",
    "                binWeighting=\"vol\", autoRange=False),\n",
    "                ])\n",
    "mcres = McAnalysis(\"resultssphere.h5\", md, histRanges, store=True)"
   ]
  },
  {
   "cell_type": "code",
   "execution_count": null,
   "metadata": {},
   "outputs": [],
   "source": [
    "# plotting the intensity match and histogram\n",
    "plt.figure(figsize=(7,5))\n",
    "plotResults(md, mcres)"
   ]
  },
  {
   "cell_type": "markdown",
   "metadata": {},
   "source": [
    "# Gaussian chain example:"
   ]
  },
  {
   "cell_type": "code",
   "execution_count": null,
   "metadata": {},
   "outputs": [],
   "source": [
    "# # remove any prior results file:\n",
    "# resPath = Path(\"test_resultsgaussianchain.h5\")\n",
    "# if resPath.is_file:\n",
    "#     resPath.unlink()\n",
    "\n",
    "# mdg = McData1D.McData1D(filename=r\"S2870 BSA THF 1 1 d.pdh\", dataRange = [0.1, 4], nbins = 50)\n",
    "# # load required modules\n",
    "# homedir = os.path.expanduser(\"~\")\n",
    "# # disable OpenCL for multiprocessing on CPU\n",
    "# os.environ[\"SAS_OPENCL\"] = \"none\"\n",
    "# # set location where the SasView/sasmodels are installed\n",
    "# # sasviewPath = os.path.join(homedir, \"AppData\", \"Local\", \"SasView\")\n",
    "# sasviewPath = os.path.join(homedir, \"Code\", \"sasmodels\")  # BRP-specific\n",
    "# if sasviewPath not in sys.path:\n",
    "#     sys.path.append(sasviewPath)\n",
    "# from mcsas3 import McHat\n",
    "\n",
    "# # run the Monte Carlo method\n",
    "# mh = McHat.McHat(\n",
    "#     modelName=\"mono_gauss_coil\",\n",
    "#     nContrib=300,\n",
    "#     modelDType=\"default\",\n",
    "#     fitParameterLimits={\"rg\": (1, 20)},\n",
    "#     staticParameters={\"background\": 0, \"i_zero\": 0.00319},\n",
    "#     maxIter=1e5,\n",
    "#     convCrit=2,\n",
    "#     nRep=5,\n",
    "#     nCores=0,\n",
    "#     seed=None,\n",
    "# )\n",
    "# # test step seems to be broken? Maybe same issue with multicore processing with sasview\n",
    "# mh.run(mdg.measData, \"test_resultsgaussianchain.h5\")\n",
    "\n",
    "# # histogram the determined size contributions\n",
    "# from mcsas3.mcmodelhistogrammer import McModelHistogrammer\n",
    "# from mcsas3.mcanalysis import McAnalysis\n",
    "# histRanges = pandas.DataFrame([dict(\n",
    "#                 parameter=\"rg\", nBin=25, binScale=\"linear\",\n",
    "#                 presetRangeMin=0.1, presetRangeMax=30,\n",
    "#                 binWeighting=\"vol\", autoRange=False),])\n",
    "# mcresg = McAnalysis(\"test_resultsgaussianchain.h5\", mdg.measData, histRanges, store=True)\n",
    "# fh, (ah) = plt.subplots()\n",
    "# mdg.rawData.plot('Q', 'I', ax = ah)\n",
    "# mdg.binnedData.plot('Q', 'I', yerr = 'IError', ax = ah, logx = True, logy = True)\n",
    "# # plotting the intensity match and histogram\n",
    "# plt.figure(figsize=(7,5))\n",
    "# plotResults(mdg.measData, mcresg)"
   ]
  }
 ],
 "metadata": {
  "kernelspec": {
   "display_name": "Python 3",
   "language": "python",
   "name": "python3"
  },
  "language_info": {
   "codemirror_mode": {
    "name": "ipython",
    "version": 3
   },
   "file_extension": ".py",
   "mimetype": "text/x-python",
   "name": "python",
   "nbconvert_exporter": "python",
   "pygments_lexer": "ipython3",
   "version": "3.7.7"
  }
 },
 "nbformat": 4,
 "nbformat_minor": 4
}
