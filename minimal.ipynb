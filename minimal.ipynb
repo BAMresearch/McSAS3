{
 "cells": [
  {
   "cell_type": "markdown",
   "metadata": {},
   "source": [
    "# For Windows\n",
    "1. Please download the latest SasView v5 package from\n",
    "   https://github.com/SasView/sasview/tags\n",
    "2. Install SasView\n",
    "3. Adjust the *sasviewProgramPath* variable accordingly for the path where SasView was installed.\n",
    "\n",
    "## In case of error\n",
    "<pre style=\"background: #fdd\">\n",
    "    CalledProcessError: Command '['gcc', ...\n",
    "</pre>\n",
    "Please start the previously installed SasView at least once and create a plot with the desired model function. This will build the selected model from C-sources into a python library in the directory <br />\n",
    "`C:\\Users\\{user}\\.sasmodels\\compiled_models\\sas32_{model}.so`\n",
    "\n",
    "If it still fails, it might be caused by OpenCL being installed while the *pyopencl* package can not be imported in jupyter notebook/lab. Try to disable OpenCL entirely by setting `os.environ[\"SAS_OPENCL\"] = \"none\"` early in the code and check that the desired SasView model was build already (see above)."
   ]
  },
  {
   "cell_type": "markdown",
   "metadata": {},
   "source": [
    "# McSAS example"
   ]
  },
  {
   "cell_type": "code",
   "execution_count": 8,
   "metadata": {},
   "outputs": [],
   "source": [
    "import warnings\n",
    "warnings.filterwarnings('error')"
   ]
  },
  {
   "cell_type": "code",
   "execution_count": 1,
   "metadata": {},
   "outputs": [],
   "source": [
    "import sys, os\n",
    "from os.path import expanduser\n",
    "# disable OpenCL if it causes problems\n",
    "os.environ[\"SAS_OPENCL\"] = \"none\"\n",
    "# set the location where the sasview-sasmodels are installed:\n",
    "homedir = expanduser(\"~\")\n",
    "sasviewProgramPath = os.path.join(homedir, \"AppData\", \"Local\", \"SasView\")\n",
    "if sasviewProgramPath not in sys.path:\n",
    "    sys.path.append(sasviewProgramPath)\n",
    "from mcsas3 import mcmodel, mcopt, mccore, McHat"
   ]
  },
  {
   "cell_type": "code",
   "execution_count": 2,
   "metadata": {},
   "outputs": [
    {
     "name": "stdout",
     "output_type": "stream",
     "text": [
      "Optimization of repetition 0 started:\n",
      "chiSqr: 4117.419818042391, N accepted: 0 / 0\n",
      "chiSqr: 4117.419818042391, N accepted: 0 / 1\n",
      "chiSqr: 111.93265751731637, N accepted: 362 / 1001\n",
      "chiSqr: 12.67129466896139, N accepted: 515 / 2001\n",
      "chiSqr: 2.4171869169046887, N accepted: 592 / 3001\n",
      "chiSqr: 1.195984704706266, N accepted: 623 / 4001\n",
      "Final chiSqr: 0.9937703183015671, N accepted: 631\n",
      "x0 [ 1.00304441e-04 -1.67798095e+02]\n",
      "Optimization of repetition 1 started:\n",
      "chiSqr: 4266.899625930302, N accepted: 0 / 0\n",
      "chiSqr: 4212.439997111624, N accepted: 1 / 1\n",
      "chiSqr: 117.01833120291688, N accepted: 371 / 1001\n",
      "chiSqr: 13.390758469913413, N accepted: 528 / 2001\n",
      "chiSqr: 2.162083479573045, N accepted: 615 / 3001\n",
      "Final chiSqr: 0.9585541864267484, N accepted: 646\n",
      "x0 [ 1.00739309e-04 -5.45172258e+02]\n",
      "Getting List of repetitions...\n",
      "2 repetitions found in McSAS file results.h5\n",
      "Histogramming every repetition and extracting elements to average...\n",
      "Averaging population modes...\n",
      "Averaging histograms...\n",
      "Averaging optimization parameters...\n",
      "Averaging model intensity...\n"
     ]
    }
   ],
   "source": [
    "os.remove(\"results.h5\")\n",
    "# import data\n",
    "from pandas import read_csv\n",
    "qs = read_csv(\"quickstartdemo1.csv\", delimiter = ';',\n",
    "              header = None, names = [\"Q\", \"I\", \"ISigma\"])\n",
    "# Q needs to be in a list as in [Q] or [Qx,Qy]\n",
    "# measured intensity I (same shape as Q) and uncertainties ISigma\n",
    "measData = dict(Q = [qs.Q.values], I = qs.I.values,\n",
    "                ISigma = qs.ISigma.values)\n",
    "\n",
    "mh = McHat.McHat(modelName=\"sphere\", nContrib=300, modelDType=\"default\",\n",
    "                 fitParameterLimits={\"radius\": (3, 315)}, \n",
    "                 staticParameters={\"background\": 0, \"sld\": 1e+6,\n",
    "                                   \"sld_solvent\": 0, },\n",
    "                 maxIter=1e5, convCrit=1, nRep=5, nCores=1)\n",
    "mh.runOnce(measData, \"results.h5\", repetition=0)\n",
    "mh.runOnce(measData, \"results.h5\", repetition=1)\n",
    "\n",
    "if False:\n",
    "    # create a model\n",
    "    mod = mcmodel.McModel(modelName = \"sphere\", nContrib = 300, modelDType=\"default\",\n",
    "                          fitParameterLimits = {\"radius\": (3, 315)}, \n",
    "                          staticParameters = {\"background\": 0,\n",
    "                                              \"sld\" : 1e+6,\n",
    "                                              \"sld_solvent\" : 0, })\n",
    "    # initialize optimization settings\n",
    "    opt = mcopt.McOpt(maxIter = 1e5, convCrit = 1)\n",
    "\n",
    "    for rep in range(3):\n",
    "        opt.repetition = rep\n",
    "        mod.resetParameterSet()\n",
    "        mc = mccore.McCore(measData, model = mod, opt = opt)\n",
    "        print(\"TEST1\", opt.gof)\n",
    "        mc.optimize()\n",
    "        mod.kernel.release()\n",
    "        print(\"Final chiSqr: {}, N accepted: {}\"\n",
    "              .format(opt.gof, opt.accepted))\n",
    "        # storing the results\n",
    "        mc.store(filename = \"results.h5\")\n",
    "\n",
    "from mcsas3.mcmodelhistogrammer import McModelHistogrammer\n",
    "from mcsas3.mcanalysis import McAnalysis\n",
    "import pandas as pd\n",
    "histRanges = pd.DataFrame(dict(\n",
    "    parameter=(\"radius\", \"radius\"),\n",
    "    nBin=(25, 25),\n",
    "    binScale=(\"linear\", \"linear\"),\n",
    "    presetRangeMin=(None, 1),\n",
    "    presetRangeMax=(None, 150),\n",
    "    binWeighting=(\"vol\", \"vol\"),\n",
    "    \n",
    "    autoRange=(True, False)))\n",
    "\n",
    "mcana = McAnalysis(\"results.h5\", measData, histRanges, store=True)"
   ]
  },
  {
   "cell_type": "code",
   "execution_count": 32,
   "metadata": {},
   "outputs": [
    {
     "data": {
      "image/png": "[encoded data removed]",
      "text/plain": [
       "<Figure size 432x288 with 2 Axes>"
      ]
     },
     "metadata": {
      "needs_background": "light"
     },
     "output_type": "display_data"
    }
   ],
   "source": [
    "# plotting the intensity match\n",
    "%matplotlib inline\n",
    "import matplotlib.pyplot as plt\n",
    "import numpy as np\n",
    "rect=[0.1,0.1,0.8,0.8]\n",
    "a1=plt.axes(rect)\n",
    "a1.yaxis.tick_left()\n",
    "for i in range(len(histRanges)):\n",
    "    mcana.debugPlot(i, alpha=0.5, label=\"hist {}\".format(i))\n",
    "a1.xaxis.set_label_position('top')\n",
    "a1.yaxis.set_label_position('right')\n",
    "a1.xaxis.tick_top()\n",
    "a1.yaxis.tick_right()\n",
    "plt.xlabel(\"R (nm)\")\n",
    "plt.ylabel(\"Frequency\")\n",
    "\n",
    "a2=plt.axes(rect, frameon=False)\n",
    "a2.xaxis.set_label_position('bottom')\n",
    "a2.yaxis.set_label_position('left')\n",
    "a2.xaxis.tick_bottom()\n",
    "a2.yaxis.tick_left()\n",
    "barWidth = np.diff(measData[\"Q\"][0])\n",
    "barWidth = np.array((barWidth[0],) + tuple(barWidth))*.5\n",
    "plt.errorbar(measData[\"Q\"][0], mcana.modelIAvg.modelIMean, yerr=mcana.modelIAvg.modelIStd,\n",
    "             elinewidth=1, label=\"MC fit\", zorder=2)\n",
    "plt.plot(measData[\"Q\"][0], measData[\"I\"],\n",
    "         label=\"Input Data\", linewidth=4, zorder=1)\n",
    "plt.yscale(\"log\")\n",
    "plt.xscale(\"log\")\n",
    "plt.xlabel(\"Q (1/nm)\")\n",
    "plt.ylabel(\"I (1/m)\")\n",
    "\n",
    "combined = [x for a in (a2, a1)\n",
    "              for x in zip(*a.get_legend_handles_labels())]\n",
    "_ = a2.legend(*list(zip(*combined)))"
   ]
  },
  {
   "cell_type": "code",
   "execution_count": null,
   "metadata": {},
   "outputs": [],
   "source": []
  }
 ],
 "metadata": {
  "kernelspec": {
   "display_name": "Python 3",
   "language": "python",
   "name": "python3"
  },
  "language_info": {
   "codemirror_mode": {
    "name": "ipython",
    "version": 3
   },
   "file_extension": ".py",
   "mimetype": "text/x-python",
   "name": "python",
   "nbconvert_exporter": "python",
   "pygments_lexer": "ipython3",
   "version": "3.7.3"
  }
 },
 "nbformat": 4,
 "nbformat_minor": 2
}
